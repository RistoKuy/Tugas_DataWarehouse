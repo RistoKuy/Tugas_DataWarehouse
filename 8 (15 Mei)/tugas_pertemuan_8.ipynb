{
 "cells": [
  {
   "cell_type": "code",
   "execution_count": 3,
   "id": "321bc5ae",
   "metadata": {},
   "outputs": [
    {
     "name": "stdout",
     "output_type": "stream",
     "text": [
      "Dataset Shape: (1000, 5)\n",
      "Kolom: ['Nama Minuman', 'Jenis', 'Gula (g)', 'Kalori', 'Status Sehat']\n",
      "\n",
      "Distribusi Status Sehat:\n",
      "Status Sehat\n",
      "Tidak Sehat    504\n",
      "Sehat          496\n",
      "Name: count, dtype: int64\n",
      "\n",
      "Sample data:\n",
      "        Nama Minuman Jenis  Gula (g)  Kalori Status Sehat\n",
      "0           Kopi her   Jus        15     234  Tidak Sehat\n",
      "1      Soda indicate   Teh        36       6  Tidak Sehat\n",
      "2  Soda professional   Jus        23      27        Sehat\n",
      "3          Jus occur   Teh        17     193        Sehat\n",
      "4      Jus attention  Kopi        30     184  Tidak Sehat\n"
     ]
    },
    {
     "data": {
      "application/vnd.plotly.v1+json": {
       "config": {
        "plotlyServerURL": "https://plot.ly"
       },
       "data": [
        {
         "customdata": [
          [
           "Kopi her",
           "Jus"
          ],
          [
           "Soda indicate",
           "Teh"
          ],
          [
           "Jus attention",
           "Kopi"
          ],
          [
           "Kopi play",
           "Kopi"
          ],
          [
           "Soda market",
           "Soda"
          ],
          [
           "Teh necessary",
           "Teh"
          ],
          [
           "Kopi chair",
           "Teh"
          ],
          [
           "Teh property",
           "Soda"
          ],
          [
           "Kopi rich",
           "Teh"
          ],
          [
           "Jus director",
           "Soda"
          ],
          [
           "Teh Congress",
           "Kopi"
          ],
          [
           "Teh treat",
           "Soda"
          ],
          [
           "Teh end",
           "Jus"
          ],
          [
           "Teh example",
           "Teh"
          ],
          [
           "Soda explain",
           "Jus"
          ],
          [
           "Jus view",
           "Kopi"
          ],
          [
           "Kopi degree",
           "Soda"
          ],
          [
           "Air Mineral feeling",
           "Kopi"
          ],
          [
           "Soda large",
           "Teh"
          ],
          [
           "Air Mineral parent",
           "Teh"
          ],
          [
           "Air Mineral protect",
           "Air Mineral"
          ],
          [
           "Teh outside",
           "Kopi"
          ],
          [
           "Kopi man",
           "Soda"
          ],
          [
           "Teh any",
           "Jus"
          ],
          [
           "Kopi environmental",
           "Kopi"
          ],
          [
           "Jus wall",
           "Teh"
          ],
          [
           "Kopi appear",
           "Air Mineral"
          ],
          [
           "Air Mineral big",
           "Kopi"
          ],
          [
           "Jus response",
           "Soda"
          ],
          [
           "Air Mineral company",
           "Jus"
          ],
          [
           "Kopi democratic",
           "Air Mineral"
          ],
          [
           "Soda they",
           "Air Mineral"
          ],
          [
           "Jus throughout",
           "Kopi"
          ],
          [
           "Jus scientist",
           "Teh"
          ],
          [
           "Jus successful",
           "Kopi"
          ],
          [
           "Jus challenge",
           "Air Mineral"
          ],
          [
           "Jus we",
           "Jus"
          ],
          [
           "Teh expect",
           "Teh"
          ],
          [
           "Jus ask",
           "Jus"
          ],
          [
           "Teh leg",
           "Kopi"
          ],
          [
           "Kopi experience",
           "Teh"
          ],
          [
           "Air Mineral power",
           "Jus"
          ],
          [
           "Soda system",
           "Soda"
          ],
          [
           "Teh view",
           "Jus"
          ],
          [
           "Soda note",
           "Jus"
          ],
          [
           "Soda find",
           "Air Mineral"
          ],
          [
           "Soda along",
           "Kopi"
          ],
          [
           "Jus crime",
           "Teh"
          ],
          [
           "Soda me",
           "Soda"
          ],
          [
           "Teh around",
           "Teh"
          ],
          [
           "Air Mineral detail",
           "Air Mineral"
          ],
          [
           "Teh benefit",
           "Jus"
          ],
          [
           "Soda gas",
           "Air Mineral"
          ],
          [
           "Kopi travel",
           "Jus"
          ],
          [
           "Kopi beyond",
           "Teh"
          ],
          [
           "Teh board",
           "Air Mineral"
          ],
          [
           "Soda still",
           "Jus"
          ],
          [
           "Teh same",
           "Kopi"
          ],
          [
           "Air Mineral kid",
           "Teh"
          ],
          [
           "Teh radio",
           "Kopi"
          ],
          [
           "Soda miss",
           "Kopi"
          ],
          [
           "Air Mineral believe",
           "Teh"
          ],
          [
           "Teh chance",
           "Kopi"
          ],
          [
           "Air Mineral away",
           "Soda"
          ],
          [
           "Kopi treatment",
           "Teh"
          ],
          [
           "Soda will",
           "Kopi"
          ],
          [
           "Soda fund",
           "Teh"
          ],
          [
           "Soda understand",
           "Jus"
          ],
          [
           "Soda hit",
           "Air Mineral"
          ],
          [
           "Kopi kitchen",
           "Jus"
          ],
          [
           "Kopi personal",
           "Air Mineral"
          ],
          [
           "Soda send",
           "Soda"
          ],
          [
           "Air Mineral ok",
           "Jus"
          ],
          [
           "Soda social",
           "Air Mineral"
          ],
          [
           "Jus agent",
           "Soda"
          ],
          [
           "Air Mineral stop",
           "Jus"
          ],
          [
           "Jus together",
           "Jus"
          ],
          [
           "Jus space",
           "Kopi"
          ],
          [
           "Teh follow",
           "Jus"
          ],
          [
           "Kopi author",
           "Air Mineral"
          ],
          [
           "Soda up",
           "Kopi"
          ],
          [
           "Kopi church",
           "Air Mineral"
          ],
          [
           "Jus show",
           "Kopi"
          ],
          [
           "Teh official",
           "Soda"
          ],
          [
           "Kopi green",
           "Kopi"
          ],
          [
           "Jus single",
           "Air Mineral"
          ],
          [
           "Soda computer",
           "Kopi"
          ],
          [
           "Jus fast",
           "Teh"
          ],
          [
           "Teh culture",
           "Air Mineral"
          ],
          [
           "Kopi much",
           "Jus"
          ],
          [
           "Teh decision",
           "Jus"
          ],
          [
           "Jus second",
           "Soda"
          ],
          [
           "Air Mineral so",
           "Teh"
          ],
          [
           "Soda unit",
           "Jus"
          ],
          [
           "Kopi threat",
           "Air Mineral"
          ],
          [
           "Jus bar",
           "Teh"
          ],
          [
           "Jus trial",
           "Kopi"
          ],
          [
           "Jus near",
           "Teh"
          ],
          [
           "Air Mineral field",
           "Kopi"
          ],
          [
           "Air Mineral rich",
           "Air Mineral"
          ],
          [
           "Air Mineral rest",
           "Air Mineral"
          ],
          [
           "Kopi language",
           "Air Mineral"
          ],
          [
           "Jus above",
           "Teh"
          ],
          [
           "Teh want",
           "Kopi"
          ],
          [
           "Jus risk",
           "Air Mineral"
          ],
          [
           "Kopi plan",
           "Air Mineral"
          ],
          [
           "Air Mineral name",
           "Air Mineral"
          ],
          [
           "Kopi long",
           "Kopi"
          ],
          [
           "Teh skin",
           "Air Mineral"
          ],
          [
           "Kopi author",
           "Soda"
          ],
          [
           "Soda office",
           "Teh"
          ],
          [
           "Jus management",
           "Jus"
          ],
          [
           "Teh vote",
           "Soda"
          ],
          [
           "Soda eye",
           "Jus"
          ],
          [
           "Air Mineral sell",
           "Soda"
          ],
          [
           "Soda know",
           "Air Mineral"
          ],
          [
           "Jus executive",
           "Jus"
          ],
          [
           "Jus suggest",
           "Air Mineral"
          ],
          [
           "Teh candidate",
           "Kopi"
          ],
          [
           "Teh garden",
           "Air Mineral"
          ],
          [
           "Air Mineral else",
           "Teh"
          ],
          [
           "Jus sit",
           "Jus"
          ],
          [
           "Air Mineral maintain",
           "Kopi"
          ],
          [
           "Kopi poor",
           "Teh"
          ],
          [
           "Soda fast",
           "Air Mineral"
          ],
          [
           "Kopi between",
           "Soda"
          ],
          [
           "Kopi accept",
           "Teh"
          ],
          [
           "Teh traditional",
           "Teh"
          ],
          [
           "Air Mineral court",
           "Teh"
          ],
          [
           "Kopi crime",
           "Kopi"
          ],
          [
           "Jus phone",
           "Air Mineral"
          ],
          [
           "Teh opportunity",
           "Teh"
          ],
          [
           "Kopi good",
           "Soda"
          ],
          [
           "Kopi so",
           "Kopi"
          ],
          [
           "Soda party",
           "Jus"
          ],
          [
           "Kopi turn",
           "Soda"
          ],
          [
           "Air Mineral structure",
           "Soda"
          ],
          [
           "Teh per",
           "Jus"
          ],
          [
           "Soda rise",
           "Kopi"
          ],
          [
           "Soda move",
           "Teh"
          ],
          [
           "Kopi line",
           "Teh"
          ],
          [
           "Air Mineral forward",
           "Air Mineral"
          ],
          [
           "Jus player",
           "Air Mineral"
          ],
          [
           "Teh out",
           "Jus"
          ],
          [
           "Teh speak",
           "Soda"
          ],
          [
           "Teh value",
           "Air Mineral"
          ],
          [
           "Kopi note",
           "Teh"
          ],
          [
           "Teh area",
           "Teh"
          ],
          [
           "Air Mineral edge",
           "Jus"
          ],
          [
           "Soda lawyer",
           "Teh"
          ],
          [
           "Air Mineral single",
           "Soda"
          ],
          [
           "Kopi recent",
           "Jus"
          ],
          [
           "Air Mineral general",
           "Air Mineral"
          ],
          [
           "Kopi collection",
           "Soda"
          ],
          [
           "Jus year",
           "Kopi"
          ],
          [
           "Kopi visit",
           "Kopi"
          ],
          [
           "Soda issue",
           "Teh"
          ],
          [
           "Teh think",
           "Kopi"
          ],
          [
           "Kopi size",
           "Soda"
          ],
          [
           "Soda stage",
           "Kopi"
          ],
          [
           "Jus position",
           "Kopi"
          ],
          [
           "Air Mineral fish",
           "Soda"
          ],
          [
           "Teh ever",
           "Kopi"
          ],
          [
           "Jus tend",
           "Jus"
          ],
          [
           "Air Mineral deep",
           "Kopi"
          ],
          [
           "Jus different",
           "Soda"
          ],
          [
           "Jus everyone",
           "Air Mineral"
          ],
          [
           "Jus happen",
           "Teh"
          ],
          [
           "Teh them",
           "Jus"
          ],
          [
           "Jus political",
           "Jus"
          ],
          [
           "Teh already",
           "Soda"
          ],
          [
           "Kopi radio",
           "Air Mineral"
          ],
          [
           "Teh only",
           "Teh"
          ],
          [
           "Jus detail",
           "Air Mineral"
          ],
          [
           "Air Mineral social",
           "Soda"
          ],
          [
           "Air Mineral really",
           "Kopi"
          ],
          [
           "Kopi always",
           "Soda"
          ],
          [
           "Jus point",
           "Teh"
          ],
          [
           "Jus these",
           "Teh"
          ],
          [
           "Jus situation",
           "Soda"
          ],
          [
           "Kopi together",
           "Air Mineral"
          ],
          [
           "Teh mean",
           "Teh"
          ],
          [
           "Soda adult",
           "Soda"
          ],
          [
           "Teh organization",
           "Air Mineral"
          ],
          [
           "Air Mineral door",
           "Jus"
          ],
          [
           "Soda arrive",
           "Air Mineral"
          ],
          [
           "Teh check",
           "Soda"
          ],
          [
           "Air Mineral good",
           "Air Mineral"
          ],
          [
           "Kopi those",
           "Soda"
          ],
          [
           "Jus hour",
           "Air Mineral"
          ],
          [
           "Kopi behind",
           "Teh"
          ],
          [
           "Air Mineral order",
           "Air Mineral"
          ],
          [
           "Kopi these",
           "Soda"
          ],
          [
           "Soda television",
           "Soda"
          ],
          [
           "Air Mineral get",
           "Jus"
          ],
          [
           "Jus may",
           "Air Mineral"
          ],
          [
           "Air Mineral decision",
           "Teh"
          ],
          [
           "Teh particular",
           "Soda"
          ],
          [
           "Jus walk",
           "Teh"
          ],
          [
           "Jus seat",
           "Teh"
          ],
          [
           "Soda friend",
           "Jus"
          ],
          [
           "Jus in",
           "Soda"
          ],
          [
           "Jus enough",
           "Jus"
          ],
          [
           "Teh artist",
           "Kopi"
          ],
          [
           "Soda agent",
           "Soda"
          ],
          [
           "Teh Republican",
           "Air Mineral"
          ],
          [
           "Air Mineral cup",
           "Teh"
          ],
          [
           "Kopi medical",
           "Teh"
          ],
          [
           "Air Mineral challenge",
           "Teh"
          ],
          [
           "Jus head",
           "Air Mineral"
          ],
          [
           "Jus size",
           "Kopi"
          ],
          [
           "Kopi thought",
           "Teh"
          ],
          [
           "Teh crime",
           "Teh"
          ],
          [
           "Soda deal",
           "Kopi"
          ],
          [
           "Teh understand",
           "Soda"
          ],
          [
           "Soda different",
           "Jus"
          ],
          [
           "Air Mineral much",
           "Soda"
          ],
          [
           "Air Mineral lawyer",
           "Kopi"
          ],
          [
           "Jus recognize",
           "Teh"
          ],
          [
           "Kopi game",
           "Air Mineral"
          ],
          [
           "Air Mineral happy",
           "Kopi"
          ],
          [
           "Air Mineral mind",
           "Teh"
          ],
          [
           "Soda song",
           "Soda"
          ],
          [
           "Kopi might",
           "Teh"
          ],
          [
           "Kopi evidence",
           "Soda"
          ],
          [
           "Air Mineral school",
           "Soda"
          ],
          [
           "Soda history",
           "Air Mineral"
          ],
          [
           "Teh book",
           "Kopi"
          ],
          [
           "Kopi peace",
           "Kopi"
          ],
          [
           "Air Mineral finish",
           "Soda"
          ],
          [
           "Kopi far",
           "Teh"
          ],
          [
           "Kopi thing",
           "Teh"
          ],
          [
           "Soda stand",
           "Air Mineral"
          ],
          [
           "Teh opportunity",
           "Soda"
          ],
          [
           "Soda prove",
           "Kopi"
          ],
          [
           "Soda add",
           "Kopi"
          ],
          [
           "Soda art",
           "Kopi"
          ],
          [
           "Kopi then",
           "Kopi"
          ],
          [
           "Jus person",
           "Teh"
          ],
          [
           "Teh attention",
           "Teh"
          ],
          [
           "Teh out",
           "Teh"
          ],
          [
           "Teh hit",
           "Jus"
          ],
          [
           "Teh evening",
           "Kopi"
          ],
          [
           "Soda manager",
           "Air Mineral"
          ],
          [
           "Air Mineral late",
           "Kopi"
          ],
          [
           "Kopi think",
           "Air Mineral"
          ],
          [
           "Jus Mrs",
           "Soda"
          ],
          [
           "Teh strategy",
           "Soda"
          ],
          [
           "Kopi sister",
           "Kopi"
          ],
          [
           "Teh sure",
           "Kopi"
          ],
          [
           "Air Mineral finally",
           "Jus"
          ],
          [
           "Soda important",
           "Kopi"
          ],
          [
           "Soda finish",
           "Kopi"
          ],
          [
           "Teh language",
           "Jus"
          ],
          [
           "Jus sound",
           "Teh"
          ],
          [
           "Kopi operation",
           "Soda"
          ],
          [
           "Soda campaign",
           "Kopi"
          ],
          [
           "Kopi out",
           "Teh"
          ],
          [
           "Air Mineral seven",
           "Teh"
          ],
          [
           "Air Mineral economy",
           "Jus"
          ],
          [
           "Jus evening",
           "Jus"
          ],
          [
           "Soda even",
           "Jus"
          ],
          [
           "Air Mineral scientist",
           "Jus"
          ],
          [
           "Teh relate",
           "Soda"
          ],
          [
           "Soda consider",
           "Teh"
          ],
          [
           "Jus certainly",
           "Air Mineral"
          ],
          [
           "Air Mineral garden",
           "Kopi"
          ],
          [
           "Soda book",
           "Kopi"
          ],
          [
           "Kopi region",
           "Air Mineral"
          ],
          [
           "Air Mineral dinner",
           "Teh"
          ],
          [
           "Soda organization",
           "Kopi"
          ],
          [
           "Air Mineral to",
           "Teh"
          ],
          [
           "Jus until",
           "Jus"
          ],
          [
           "Soda government",
           "Teh"
          ],
          [
           "Kopi yet",
           "Soda"
          ],
          [
           "Air Mineral beyond",
           "Air Mineral"
          ],
          [
           "Teh season",
           "Jus"
          ],
          [
           "Teh focus",
           "Teh"
          ],
          [
           "Jus top",
           "Kopi"
          ],
          [
           "Jus prepare",
           "Air Mineral"
          ],
          [
           "Teh modern",
           "Jus"
          ],
          [
           "Teh check",
           "Soda"
          ],
          [
           "Air Mineral third",
           "Soda"
          ],
          [
           "Air Mineral Democrat",
           "Air Mineral"
          ],
          [
           "Kopi hope",
           "Soda"
          ],
          [
           "Soda miss",
           "Teh"
          ],
          [
           "Air Mineral beat",
           "Soda"
          ],
          [
           "Jus compare",
           "Air Mineral"
          ],
          [
           "Soda raise",
           "Kopi"
          ],
          [
           "Kopi somebody",
           "Air Mineral"
          ],
          [
           "Teh skill",
           "Jus"
          ],
          [
           "Teh across",
           "Kopi"
          ],
          [
           "Air Mineral garden",
           "Kopi"
          ],
          [
           "Soda tax",
           "Jus"
          ],
          [
           "Air Mineral produce",
           "Jus"
          ],
          [
           "Kopi yeah",
           "Air Mineral"
          ],
          [
           "Soda position",
           "Teh"
          ],
          [
           "Kopi like",
           "Jus"
          ],
          [
           "Jus sign",
           "Teh"
          ],
          [
           "Kopi choose",
           "Jus"
          ],
          [
           "Soda American",
           "Air Mineral"
          ],
          [
           "Kopi science",
           "Jus"
          ],
          [
           "Air Mineral stock",
           "Kopi"
          ],
          [
           "Kopi necessary",
           "Jus"
          ],
          [
           "Air Mineral company",
           "Kopi"
          ],
          [
           "Air Mineral leave",
           "Soda"
          ],
          [
           "Air Mineral chair",
           "Kopi"
          ],
          [
           "Air Mineral onto",
           "Teh"
          ],
          [
           "Air Mineral teacher",
           "Kopi"
          ],
          [
           "Teh task",
           "Air Mineral"
          ],
          [
           "Kopi mouth",
           "Teh"
          ],
          [
           "Jus yeah",
           "Jus"
          ],
          [
           "Soda human",
           "Soda"
          ],
          [
           "Soda must",
           "Air Mineral"
          ],
          [
           "Soda travel",
           "Teh"
          ],
          [
           "Kopi step",
           "Kopi"
          ],
          [
           "Air Mineral since",
           "Kopi"
          ],
          [
           "Kopi leader",
           "Jus"
          ],
          [
           "Kopi people",
           "Jus"
          ],
          [
           "Jus tough",
           "Teh"
          ],
          [
           "Teh though",
           "Kopi"
          ],
          [
           "Air Mineral might",
           "Soda"
          ],
          [
           "Soda foreign",
           "Teh"
          ],
          [
           "Jus money",
           "Kopi"
          ],
          [
           "Air Mineral catch",
           "Air Mineral"
          ],
          [
           "Jus along",
           "Jus"
          ],
          [
           "Kopi carry",
           "Teh"
          ],
          [
           "Soda compare",
           "Air Mineral"
          ],
          [
           "Teh tonight",
           "Soda"
          ],
          [
           "Kopi Republican",
           "Kopi"
          ],
          [
           "Soda stop",
           "Jus"
          ],
          [
           "Air Mineral explain",
           "Jus"
          ],
          [
           "Kopi enter",
           "Air Mineral"
          ],
          [
           "Teh outside",
           "Air Mineral"
          ],
          [
           "Jus partner",
           "Teh"
          ],
          [
           "Kopi state",
           "Teh"
          ],
          [
           "Teh responsibility",
           "Kopi"
          ],
          [
           "Teh red",
           "Air Mineral"
          ],
          [
           "Air Mineral own",
           "Air Mineral"
          ],
          [
           "Air Mineral consider",
           "Teh"
          ],
          [
           "Air Mineral class",
           "Teh"
          ],
          [
           "Jus organization",
           "Teh"
          ],
          [
           "Soda among",
           "Kopi"
          ],
          [
           "Air Mineral hair",
           "Soda"
          ],
          [
           "Kopi most",
           "Air Mineral"
          ],
          [
           "Air Mineral water",
           "Soda"
          ],
          [
           "Soda scene",
           "Air Mineral"
          ],
          [
           "Kopi step",
           "Jus"
          ],
          [
           "Jus social",
           "Jus"
          ],
          [
           "Air Mineral top",
           "Kopi"
          ],
          [
           "Jus tax",
           "Teh"
          ],
          [
           "Kopi upon",
           "Air Mineral"
          ],
          [
           "Kopi pressure",
           "Kopi"
          ],
          [
           "Kopi south",
           "Air Mineral"
          ],
          [
           "Jus easy",
           "Jus"
          ],
          [
           "Teh series",
           "Air Mineral"
          ],
          [
           "Teh color",
           "Jus"
          ],
          [
           "Teh spend",
           "Air Mineral"
          ],
          [
           "Jus different",
           "Air Mineral"
          ],
          [
           "Soda marriage",
           "Air Mineral"
          ],
          [
           "Air Mineral attack",
           "Air Mineral"
          ],
          [
           "Air Mineral none",
           "Soda"
          ],
          [
           "Jus ever",
           "Air Mineral"
          ],
          [
           "Air Mineral Mrs",
           "Soda"
          ],
          [
           "Kopi daughter",
           "Kopi"
          ],
          [
           "Air Mineral fast",
           "Air Mineral"
          ],
          [
           "Jus fly",
           "Air Mineral"
          ],
          [
           "Air Mineral small",
           "Air Mineral"
          ],
          [
           "Air Mineral lawyer",
           "Soda"
          ],
          [
           "Teh per",
           "Soda"
          ],
          [
           "Soda network",
           "Jus"
          ],
          [
           "Air Mineral practice",
           "Soda"
          ],
          [
           "Jus media",
           "Teh"
          ],
          [
           "Jus point",
           "Teh"
          ],
          [
           "Teh need",
           "Air Mineral"
          ],
          [
           "Jus color",
           "Air Mineral"
          ],
          [
           "Soda believe",
           "Soda"
          ],
          [
           "Air Mineral check",
           "Kopi"
          ],
          [
           "Soda fine",
           "Soda"
          ],
          [
           "Jus body",
           "Air Mineral"
          ],
          [
           "Soda management",
           "Kopi"
          ],
          [
           "Teh machine",
           "Soda"
          ],
          [
           "Kopi religious",
           "Kopi"
          ],
          [
           "Air Mineral someone",
           "Teh"
          ],
          [
           "Soda sign",
           "Teh"
          ],
          [
           "Air Mineral pull",
           "Kopi"
          ],
          [
           "Soda same",
           "Air Mineral"
          ],
          [
           "Teh position",
           "Air Mineral"
          ],
          [
           "Soda may",
           "Teh"
          ],
          [
           "Kopi call",
           "Teh"
          ],
          [
           "Teh help",
           "Kopi"
          ],
          [
           "Air Mineral next",
           "Soda"
          ],
          [
           "Air Mineral trial",
           "Jus"
          ],
          [
           "Air Mineral attorney",
           "Soda"
          ],
          [
           "Soda hotel",
           "Kopi"
          ],
          [
           "Air Mineral see",
           "Teh"
          ],
          [
           "Teh base",
           "Teh"
          ],
          [
           "Jus huge",
           "Kopi"
          ],
          [
           "Air Mineral national",
           "Jus"
          ],
          [
           "Air Mineral everyone",
           "Soda"
          ],
          [
           "Jus conference",
           "Jus"
          ],
          [
           "Teh box",
           "Teh"
          ],
          [
           "Jus allow",
           "Teh"
          ],
          [
           "Soda trip",
           "Kopi"
          ],
          [
           "Soda six",
           "Teh"
          ],
          [
           "Air Mineral arrive",
           "Jus"
          ],
          [
           "Jus notice",
           "Teh"
          ],
          [
           "Air Mineral beat",
           "Teh"
          ],
          [
           "Jus standard",
           "Kopi"
          ],
          [
           "Kopi sound",
           "Teh"
          ],
          [
           "Air Mineral language",
           "Jus"
          ],
          [
           "Air Mineral house",
           "Air Mineral"
          ],
          [
           "Soda special",
           "Teh"
          ],
          [
           "Soda rather",
           "Soda"
          ],
          [
           "Soda without",
           "Jus"
          ],
          [
           "Kopi employee",
           "Jus"
          ],
          [
           "Air Mineral range",
           "Teh"
          ],
          [
           "Air Mineral foreign",
           "Teh"
          ],
          [
           "Soda every",
           "Teh"
          ],
          [
           "Jus discover",
           "Jus"
          ],
          [
           "Teh back",
           "Air Mineral"
          ],
          [
           "Teh authority",
           "Air Mineral"
          ],
          [
           "Jus recognize",
           "Kopi"
          ],
          [
           "Kopi recognize",
           "Kopi"
          ],
          [
           "Jus fire",
           "Teh"
          ],
          [
           "Kopi nice",
           "Air Mineral"
          ],
          [
           "Jus economy",
           "Jus"
          ],
          [
           "Jus summer",
           "Soda"
          ],
          [
           "Teh contain",
           "Kopi"
          ],
          [
           "Teh need",
           "Teh"
          ],
          [
           "Jus enter",
           "Soda"
          ],
          [
           "Kopi expert",
           "Kopi"
          ],
          [
           "Jus maybe",
           "Soda"
          ],
          [
           "Soda tree",
           "Teh"
          ],
          [
           "Jus life",
           "Air Mineral"
          ],
          [
           "Air Mineral her",
           "Kopi"
          ],
          [
           "Kopi nor",
           "Teh"
          ],
          [
           "Teh act",
           "Teh"
          ],
          [
           "Soda strategy",
           "Soda"
          ],
          [
           "Jus owner",
           "Air Mineral"
          ],
          [
           "Kopi star",
           "Air Mineral"
          ],
          [
           "Soda according",
           "Kopi"
          ],
          [
           "Soda surface",
           "Kopi"
          ],
          [
           "Soda boy",
           "Kopi"
          ],
          [
           "Air Mineral suddenly",
           "Kopi"
          ],
          [
           "Kopi tough",
           "Kopi"
          ],
          [
           "Kopi rather",
           "Teh"
          ],
          [
           "Teh during",
           "Air Mineral"
          ],
          [
           "Kopi describe",
           "Jus"
          ],
          [
           "Teh simply",
           "Kopi"
          ],
          [
           "Kopi image",
           "Kopi"
          ],
          [
           "Kopi gas",
           "Soda"
          ],
          [
           "Kopi magazine",
           "Jus"
          ],
          [
           "Jus expect",
           "Soda"
          ],
          [
           "Teh reveal",
           "Air Mineral"
          ],
          [
           "Air Mineral memory",
           "Jus"
          ],
          [
           "Jus life",
           "Kopi"
          ],
          [
           "Kopi film",
           "Air Mineral"
          ],
          [
           "Soda adult",
           "Soda"
          ],
          [
           "Air Mineral talk",
           "Air Mineral"
          ],
          [
           "Kopi always",
           "Air Mineral"
          ],
          [
           "Jus loss",
           "Soda"
          ],
          [
           "Teh law",
           "Kopi"
          ],
          [
           "Jus at",
           "Teh"
          ],
          [
           "Air Mineral mention",
           "Air Mineral"
          ],
          [
           "Jus two",
           "Teh"
          ],
          [
           "Air Mineral issue",
           "Jus"
          ],
          [
           "Teh work",
           "Teh"
          ],
          [
           "Soda talk",
           "Teh"
          ],
          [
           "Kopi benefit",
           "Kopi"
          ],
          [
           "Kopi game",
           "Jus"
          ],
          [
           "Soda hair",
           "Air Mineral"
          ],
          [
           "Jus deal",
           "Jus"
          ],
          [
           "Jus grow",
           "Air Mineral"
          ],
          [
           "Air Mineral apply",
           "Jus"
          ],
          [
           "Kopi guy",
           "Teh"
          ],
          [
           "Kopi itself",
           "Kopi"
          ],
          [
           "Soda figure",
           "Jus"
          ],
          [
           "Air Mineral girl",
           "Teh"
          ],
          [
           "Soda with",
           "Teh"
          ],
          [
           "Jus fear",
           "Kopi"
          ],
          [
           "Teh black",
           "Jus"
          ],
          [
           "Teh military",
           "Air Mineral"
          ],
          [
           "Soda event",
           "Air Mineral"
          ],
          [
           "Teh once",
           "Soda"
          ],
          [
           "Teh the",
           "Teh"
          ],
          [
           "Soda consumer",
           "Jus"
          ],
          [
           "Air Mineral price",
           "Air Mineral"
          ],
          [
           "Air Mineral style",
           "Teh"
          ],
          [
           "Air Mineral building",
           "Jus"
          ],
          [
           "Soda model",
           "Teh"
          ],
          [
           "Teh table",
           "Teh"
          ],
          [
           "Jus support",
           "Jus"
          ],
          [
           "Teh financial",
           "Kopi"
          ],
          [
           "Jus top",
           "Jus"
          ],
          [
           "Soda director",
           "Air Mineral"
          ],
          [
           "Soda wear",
           "Air Mineral"
          ],
          [
           "Kopi where",
           "Kopi"
          ],
          [
           "Teh point",
           "Jus"
          ],
          [
           "Soda wall",
           "Kopi"
          ],
          [
           "Air Mineral hundred",
           "Air Mineral"
          ],
          [
           "Teh fish",
           "Kopi"
          ],
          [
           "Soda line",
           "Air Mineral"
          ],
          [
           "Soda what",
           "Kopi"
          ]
         ],
         "hovertemplate": "Status Sehat=Tidak Sehat<br>Gula (g)=%{x}<br>Kalori=%{y}<br>Nama Minuman=%{customdata[0]}<br>Jenis=%{customdata[1]}<extra></extra>",
         "legendgroup": "Tidak Sehat",
         "marker": {
          "color": "#636efa",
          "symbol": "circle"
         },
         "mode": "markers",
         "name": "Tidak Sehat",
         "orientation": "v",
         "showlegend": true,
         "type": "scatter",
         "x": {
          "bdata": "DyQeExYjJxwcFg0SChYkJQcSBgkOCQ8OGhMcDhMNChoEBg8WEgYIFCQlBiEfCgAFBRQLFCUiFSEFCwkCDh8GGicCBAgSJQ0IGCcbDRQdFRgGDRwfJBsMIQwaDSIADgUmCSchHiQdBxUGAxAjIwIPJigBAh4UFxImCAIHGBoPBxoAIiMMESgMCCYcAAIRDyIiASUPAQgaEwcAKAkVAwcgAgsbHgINEB8cAxMhHxAbGw4FByUHHhsWJRcTAw0QJA8gGwIAIx4ZHBASJA4HIQMWGCUnBA4UJxAPBSQFCScRGxMECAsEHxscCiIFCxMIDwQNFggiJBIRFRgJChoMFQofKBkLGCcNIgYjGwMeEw4NDAobDxgaKBMlDiUDCRYaGiMRJx4HDRsVHQwHBRgRBigkCQoJCBAHAhoABQwDIBQIFAIoERsFDCAcIwYNEhYKDCMjJAsmJiMgBxsfJyAnHQELFgcDBxsNGh8GFhYhFgQADQ4oIiYTGgADGAcAJiAGFwkEBRMbHRokIQIfFB4ZAxoXBiMPIQ8EJA0eGyIRCBsgIxQSFSgbFhAUIAYeJxggGBocBQgiBwceBRYHJygFEQMaFRYgCSAQFR8XJAAJBhcWCAYFGSQMDiIlIRAaICgTKB8aBggNHBYeFA4cHhQIAiYICBUZFyEFEQwC",
          "dtype": "i1"
         },
         "xaxis": "x",
         "y": {
          "bdata": "6gAGALgA1gDgAJEAkADHAJUALgBNAK0AUQANAMgAxgAZAAkAsgB4APAA3QAgAGAAFQByAPcATAB2AIQAvQDvAC0AdwB4ALMApAA8AMgAvAAVAKIAMwA8ACwAXAAxACEALAA4AHUAFgCyAAwAmADWAA0AggANAJoAcwBwAFsACADFAIIAVgDMAL8AKwCgAKAAGgASAAgA5AAfAG4ADABcAPkA+gCfAHMADAATAJcAfQD0AJcADQDlAKYAsAB1AGkAbwD0AMIAIQDsAFoAEgCNAIUAAADnAK4AsgBdADcAGQB3AG4A0ADuAGgAYwBrAI8AkwBhALcANADeAJQAygD6AAMAgQCYAFkAUwC3AKsAcgBCAAoArgDtADYAfQAEABkAEwCPAHwAWQCbAIQA0ACWAIwAxgCKAJoA7ABRAM8A0QBoAFkAWgByAM8AuAD3AJ0ATgBtAE0ArQBmACEAtgBKAHoAuwAoANIAvABYAJwAUgCVAGoAnADWACYAKgAjANgAbwCLAHwAYwAaAJgAYABDAPEASAAkAA8AUQCCAH4AqQDgAFYAOQBIAIYAaQBBANwAKwAIAHQAAACIAOgAfgBHAFEA8gA1ACMAawCbAKwA9QCaAGAAygDrAJUAMADpAF0A5wBjAFYA2gCjAFYArwB6ABAAOADRAHsAkwDOAKUAZgC5AAoACQDsAM8AfwBcADoApAAxAPkAhwBdANUANwDoANQAuQBYAFsADAAcAO4A2gDvABkAXAB1AMsAHQABAEsAigBWADIAHACsAI8ALgCGAPUAiQDpAFcANwBLAIcAowCcAKoAEwCsAOwAIQB1AK0A1QBdAFMA4ABBAGgANAAEABAAHgBuAKkAAQBWAAsAjgAZAIMAAABUAA4AdgDVAIAAbgBzAMMA8QCHAL0AIgB1AA0A0AAFAHQA0gDaAA8ARAC6AE0AHgDpAIkAZQANACoABwCOAIwA5AAbAOYAwQC9AKcAgQAgANQA7AAKACYAFABsAB4ADgA9AK4APwBYAKgAbACoAB0AUgDAAGwACABNAB0AmwANAO0A0QBdABQABAAaAIIAwgAxABkAjQBvABYAcgAgAKgARABLAI0A9ACRAIoARADGALcAmABcALQAKAB8AHMASAAaAJQA0gDBANQAUAAoAAQAIgCBAM0AkwASAIEAUQD5AFIAygDFAFcAaQBtAF4A8wAaACwAUQA8AMsAtwCTANoAXgAxAHgANAAtAG4AtADrAAUABQCNAEgAuwBKAJwAFwDzAEUAiQCxAH0AZQB6AIEAhAAvAGIAJwAIADkArgDXAGgAAAA1AIAAOwBpAEYAogARAEEAjgDzAGAA",
          "dtype": "i2"
         },
         "yaxis": "y"
        },
        {
         "customdata": [
          [
           "Soda professional",
           "Jus"
          ],
          [
           "Jus occur",
           "Teh"
          ],
          [
           "Teh change",
           "Teh"
          ],
          [
           "Teh wind",
           "Jus"
          ],
          [
           "Teh so",
           "Air Mineral"
          ],
          [
           "Soda officer",
           "Air Mineral"
          ],
          [
           "Teh house",
           "Jus"
          ],
          [
           "Soda include",
           "Jus"
          ],
          [
           "Teh ground",
           "Kopi"
          ],
          [
           "Air Mineral pick",
           "Air Mineral"
          ],
          [
           "Jus understand",
           "Kopi"
          ],
          [
           "Soda subject",
           "Kopi"
          ],
          [
           "Jus similar",
           "Jus"
          ],
          [
           "Air Mineral education",
           "Soda"
          ],
          [
           "Air Mineral design",
           "Teh"
          ],
          [
           "Air Mineral break",
           "Kopi"
          ],
          [
           "Soda time",
           "Air Mineral"
          ],
          [
           "Teh red",
           "Kopi"
          ],
          [
           "Kopi standard",
           "Soda"
          ],
          [
           "Soda part",
           "Air Mineral"
          ],
          [
           "Soda girl",
           "Kopi"
          ],
          [
           "Kopi four",
           "Soda"
          ],
          [
           "Kopi color",
           "Air Mineral"
          ],
          [
           "Soda chance",
           "Jus"
          ],
          [
           "Soda beautiful",
           "Soda"
          ],
          [
           "Jus relate",
           "Teh"
          ],
          [
           "Teh fight",
           "Kopi"
          ],
          [
           "Air Mineral key",
           "Soda"
          ],
          [
           "Air Mineral risk",
           "Jus"
          ],
          [
           "Kopi visit",
           "Kopi"
          ],
          [
           "Jus describe",
           "Teh"
          ],
          [
           "Jus course",
           "Soda"
          ],
          [
           "Air Mineral same",
           "Air Mineral"
          ],
          [
           "Soda research",
           "Teh"
          ],
          [
           "Teh budget",
           "Teh"
          ],
          [
           "Soda change",
           "Kopi"
          ],
          [
           "Kopi who",
           "Air Mineral"
          ],
          [
           "Soda option",
           "Teh"
          ],
          [
           "Jus tonight",
           "Air Mineral"
          ],
          [
           "Soda movie",
           "Air Mineral"
          ],
          [
           "Jus Mrs",
           "Teh"
          ],
          [
           "Teh sing",
           "Kopi"
          ],
          [
           "Kopi other",
           "Air Mineral"
          ],
          [
           "Teh election",
           "Soda"
          ],
          [
           "Teh treat",
           "Jus"
          ],
          [
           "Kopi degree",
           "Air Mineral"
          ],
          [
           "Teh pattern",
           "Air Mineral"
          ],
          [
           "Teh major",
           "Teh"
          ],
          [
           "Air Mineral bad",
           "Air Mineral"
          ],
          [
           "Jus guy",
           "Kopi"
          ],
          [
           "Teh responsibility",
           "Soda"
          ],
          [
           "Soda certain",
           "Soda"
          ],
          [
           "Kopi region",
           "Air Mineral"
          ],
          [
           "Kopi response",
           "Teh"
          ],
          [
           "Air Mineral figure",
           "Jus"
          ],
          [
           "Jus feel",
           "Kopi"
          ],
          [
           "Teh break",
           "Jus"
          ],
          [
           "Soda down",
           "Air Mineral"
          ],
          [
           "Teh young",
           "Air Mineral"
          ],
          [
           "Jus product",
           "Teh"
          ],
          [
           "Jus mean",
           "Teh"
          ],
          [
           "Soda democratic",
           "Jus"
          ],
          [
           "Kopi situation",
           "Kopi"
          ],
          [
           "Jus war",
           "Air Mineral"
          ],
          [
           "Teh audience",
           "Air Mineral"
          ],
          [
           "Air Mineral your",
           "Soda"
          ],
          [
           "Teh face",
           "Air Mineral"
          ],
          [
           "Kopi serious",
           "Kopi"
          ],
          [
           "Air Mineral again",
           "Teh"
          ],
          [
           "Teh force",
           "Teh"
          ],
          [
           "Air Mineral college",
           "Kopi"
          ],
          [
           "Kopi might",
           "Teh"
          ],
          [
           "Teh identify",
           "Kopi"
          ],
          [
           "Soda election",
           "Kopi"
          ],
          [
           "Air Mineral paper",
           "Air Mineral"
          ],
          [
           "Teh remember",
           "Jus"
          ],
          [
           "Kopi community",
           "Teh"
          ],
          [
           "Teh home",
           "Soda"
          ],
          [
           "Teh represent",
           "Soda"
          ],
          [
           "Teh pass",
           "Kopi"
          ],
          [
           "Soda full",
           "Air Mineral"
          ],
          [
           "Jus environment",
           "Soda"
          ],
          [
           "Soda figure",
           "Teh"
          ],
          [
           "Teh open",
           "Teh"
          ],
          [
           "Jus we",
           "Jus"
          ],
          [
           "Air Mineral worker",
           "Air Mineral"
          ],
          [
           "Kopi personal",
           "Jus"
          ],
          [
           "Kopi continue",
           "Kopi"
          ],
          [
           "Air Mineral four",
           "Air Mineral"
          ],
          [
           "Kopi thousand",
           "Soda"
          ],
          [
           "Teh central",
           "Air Mineral"
          ],
          [
           "Kopi care",
           "Air Mineral"
          ],
          [
           "Soda responsibility",
           "Air Mineral"
          ],
          [
           "Teh common",
           "Kopi"
          ],
          [
           "Kopi kind",
           "Kopi"
          ],
          [
           "Air Mineral person",
           "Kopi"
          ],
          [
           "Kopi stage",
           "Jus"
          ],
          [
           "Kopi already",
           "Jus"
          ],
          [
           "Jus process",
           "Teh"
          ],
          [
           "Air Mineral order",
           "Soda"
          ],
          [
           "Kopi where",
           "Jus"
          ],
          [
           "Air Mineral treat",
           "Kopi"
          ],
          [
           "Kopi water",
           "Jus"
          ],
          [
           "Air Mineral common",
           "Jus"
          ],
          [
           "Air Mineral hold",
           "Soda"
          ],
          [
           "Kopi account",
           "Kopi"
          ],
          [
           "Kopi economic",
           "Soda"
          ],
          [
           "Air Mineral yourself",
           "Teh"
          ],
          [
           "Jus station",
           "Soda"
          ],
          [
           "Air Mineral conference",
           "Kopi"
          ],
          [
           "Teh grow",
           "Air Mineral"
          ],
          [
           "Kopi yeah",
           "Kopi"
          ],
          [
           "Kopi impact",
           "Soda"
          ],
          [
           "Teh foreign",
           "Soda"
          ],
          [
           "Jus rather",
           "Jus"
          ],
          [
           "Teh some",
           "Jus"
          ],
          [
           "Kopi every",
           "Air Mineral"
          ],
          [
           "Jus a",
           "Kopi"
          ],
          [
           "Teh heart",
           "Jus"
          ],
          [
           "Jus smile",
           "Air Mineral"
          ],
          [
           "Teh see",
           "Jus"
          ],
          [
           "Teh sister",
           "Kopi"
          ],
          [
           "Jus who",
           "Kopi"
          ],
          [
           "Teh concern",
           "Teh"
          ],
          [
           "Kopi sit",
           "Teh"
          ],
          [
           "Soda then",
           "Jus"
          ],
          [
           "Kopi model",
           "Teh"
          ],
          [
           "Kopi gun",
           "Air Mineral"
          ],
          [
           "Jus between",
           "Kopi"
          ],
          [
           "Jus authority",
           "Kopi"
          ],
          [
           "Teh fine",
           "Soda"
          ],
          [
           "Jus difficult",
           "Soda"
          ],
          [
           "Kopi concern",
           "Air Mineral"
          ],
          [
           "Air Mineral feeling",
           "Soda"
          ],
          [
           "Soda defense",
           "Teh"
          ],
          [
           "Soda keep",
           "Soda"
          ],
          [
           "Soda investment",
           "Teh"
          ],
          [
           "Air Mineral treat",
           "Air Mineral"
          ],
          [
           "Jus if",
           "Soda"
          ],
          [
           "Air Mineral quality",
           "Teh"
          ],
          [
           "Air Mineral suddenly",
           "Kopi"
          ],
          [
           "Soda need",
           "Teh"
          ],
          [
           "Teh apply",
           "Soda"
          ],
          [
           "Air Mineral floor",
           "Kopi"
          ],
          [
           "Kopi weight",
           "Kopi"
          ],
          [
           "Jus but",
           "Soda"
          ],
          [
           "Soda specific",
           "Soda"
          ],
          [
           "Teh southern",
           "Air Mineral"
          ],
          [
           "Air Mineral child",
           "Air Mineral"
          ],
          [
           "Jus final",
           "Soda"
          ],
          [
           "Air Mineral unit",
           "Air Mineral"
          ],
          [
           "Air Mineral best",
           "Jus"
          ],
          [
           "Kopi difference",
           "Teh"
          ],
          [
           "Soda nor",
           "Air Mineral"
          ],
          [
           "Air Mineral agree",
           "Teh"
          ],
          [
           "Jus others",
           "Jus"
          ],
          [
           "Jus much",
           "Jus"
          ],
          [
           "Soda term",
           "Kopi"
          ],
          [
           "Teh change",
           "Jus"
          ],
          [
           "Soda particular",
           "Kopi"
          ],
          [
           "Kopi least",
           "Kopi"
          ],
          [
           "Kopi how",
           "Kopi"
          ],
          [
           "Air Mineral police",
           "Air Mineral"
          ],
          [
           "Teh important",
           "Air Mineral"
          ],
          [
           "Jus region",
           "Soda"
          ],
          [
           "Kopi rock",
           "Teh"
          ],
          [
           "Air Mineral world",
           "Jus"
          ],
          [
           "Teh number",
           "Kopi"
          ],
          [
           "Soda conference",
           "Soda"
          ],
          [
           "Teh crime",
           "Air Mineral"
          ],
          [
           "Kopi space",
           "Air Mineral"
          ],
          [
           "Soda science",
           "Soda"
          ],
          [
           "Soda third",
           "Kopi"
          ],
          [
           "Jus speak",
           "Teh"
          ],
          [
           "Air Mineral spend",
           "Kopi"
          ],
          [
           "Soda ever",
           "Jus"
          ],
          [
           "Kopi key",
           "Jus"
          ],
          [
           "Air Mineral walk",
           "Kopi"
          ],
          [
           "Jus unit",
           "Teh"
          ],
          [
           "Soda shoulder",
           "Kopi"
          ],
          [
           "Air Mineral because",
           "Teh"
          ],
          [
           "Air Mineral world",
           "Jus"
          ],
          [
           "Air Mineral development",
           "Kopi"
          ],
          [
           "Teh what",
           "Teh"
          ],
          [
           "Soda reflect",
           "Jus"
          ],
          [
           "Air Mineral consider",
           "Teh"
          ],
          [
           "Teh management",
           "Jus"
          ],
          [
           "Teh mother",
           "Kopi"
          ],
          [
           "Jus eye",
           "Soda"
          ],
          [
           "Teh increase",
           "Jus"
          ],
          [
           "Jus bad",
           "Kopi"
          ],
          [
           "Soda moment",
           "Teh"
          ],
          [
           "Jus five",
           "Kopi"
          ],
          [
           "Air Mineral leave",
           "Kopi"
          ],
          [
           "Jus heavy",
           "Soda"
          ],
          [
           "Kopi government",
           "Teh"
          ],
          [
           "Soda thousand",
           "Teh"
          ],
          [
           "Teh investment",
           "Kopi"
          ],
          [
           "Kopi section",
           "Kopi"
          ],
          [
           "Teh race",
           "Teh"
          ],
          [
           "Kopi avoid",
           "Air Mineral"
          ],
          [
           "Jus region",
           "Teh"
          ],
          [
           "Kopi seem",
           "Soda"
          ],
          [
           "Soda quality",
           "Teh"
          ],
          [
           "Teh painting",
           "Teh"
          ],
          [
           "Air Mineral show",
           "Jus"
          ],
          [
           "Kopi participant",
           "Kopi"
          ],
          [
           "Kopi the",
           "Air Mineral"
          ],
          [
           "Kopi outside",
           "Soda"
          ],
          [
           "Kopi theory",
           "Soda"
          ],
          [
           "Kopi from",
           "Air Mineral"
          ],
          [
           "Jus something",
           "Teh"
          ],
          [
           "Teh little",
           "Air Mineral"
          ],
          [
           "Jus high",
           "Teh"
          ],
          [
           "Teh serious",
           "Teh"
          ],
          [
           "Air Mineral particularly",
           "Teh"
          ],
          [
           "Air Mineral movie",
           "Soda"
          ],
          [
           "Kopi guess",
           "Kopi"
          ],
          [
           "Soda still",
           "Air Mineral"
          ],
          [
           "Soda partner",
           "Soda"
          ],
          [
           "Soda artist",
           "Air Mineral"
          ],
          [
           "Kopi foot",
           "Kopi"
          ],
          [
           "Soda prepare",
           "Jus"
          ],
          [
           "Teh chance",
           "Jus"
          ],
          [
           "Kopi need",
           "Soda"
          ],
          [
           "Teh doctor",
           "Air Mineral"
          ],
          [
           "Air Mineral rest",
           "Kopi"
          ],
          [
           "Teh less",
           "Soda"
          ],
          [
           "Jus quite",
           "Air Mineral"
          ],
          [
           "Air Mineral positive",
           "Kopi"
          ],
          [
           "Kopi likely",
           "Soda"
          ],
          [
           "Teh positive",
           "Jus"
          ],
          [
           "Kopi continue",
           "Air Mineral"
          ],
          [
           "Soda someone",
           "Kopi"
          ],
          [
           "Soda general",
           "Jus"
          ],
          [
           "Jus collection",
           "Air Mineral"
          ],
          [
           "Soda quality",
           "Kopi"
          ],
          [
           "Jus rock",
           "Teh"
          ],
          [
           "Jus kid",
           "Kopi"
          ],
          [
           "Teh price",
           "Soda"
          ],
          [
           "Teh positive",
           "Kopi"
          ],
          [
           "Soda news",
           "Teh"
          ],
          [
           "Kopi full",
           "Soda"
          ],
          [
           "Soda son",
           "Jus"
          ],
          [
           "Jus pattern",
           "Jus"
          ],
          [
           "Jus single",
           "Jus"
          ],
          [
           "Soda blue",
           "Soda"
          ],
          [
           "Soda very",
           "Air Mineral"
          ],
          [
           "Kopi measure",
           "Teh"
          ],
          [
           "Kopi discover",
           "Air Mineral"
          ],
          [
           "Jus toward",
           "Teh"
          ],
          [
           "Teh lead",
           "Jus"
          ],
          [
           "Soda religious",
           "Jus"
          ],
          [
           "Teh join",
           "Jus"
          ],
          [
           "Air Mineral again",
           "Kopi"
          ],
          [
           "Soda value",
           "Teh"
          ],
          [
           "Teh charge",
           "Air Mineral"
          ],
          [
           "Kopi Democrat",
           "Jus"
          ],
          [
           "Kopi minute",
           "Air Mineral"
          ],
          [
           "Kopi true",
           "Teh"
          ],
          [
           "Kopi amount",
           "Kopi"
          ],
          [
           "Air Mineral box",
           "Jus"
          ],
          [
           "Air Mineral store",
           "Jus"
          ],
          [
           "Soda in",
           "Air Mineral"
          ],
          [
           "Air Mineral floor",
           "Teh"
          ],
          [
           "Soda player",
           "Teh"
          ],
          [
           "Kopi less",
           "Jus"
          ],
          [
           "Soda on",
           "Air Mineral"
          ],
          [
           "Soda we",
           "Kopi"
          ],
          [
           "Soda alone",
           "Soda"
          ],
          [
           "Soda region",
           "Teh"
          ],
          [
           "Air Mineral major",
           "Jus"
          ],
          [
           "Air Mineral blue",
           "Teh"
          ],
          [
           "Jus employee",
           "Jus"
          ],
          [
           "Jus gas",
           "Teh"
          ],
          [
           "Kopi less",
           "Jus"
          ],
          [
           "Air Mineral view",
           "Jus"
          ],
          [
           "Jus former",
           "Soda"
          ],
          [
           "Air Mineral still",
           "Soda"
          ],
          [
           "Air Mineral difference",
           "Teh"
          ],
          [
           "Kopi letter",
           "Soda"
          ],
          [
           "Jus their",
           "Soda"
          ],
          [
           "Kopi coach",
           "Kopi"
          ],
          [
           "Jus capital",
           "Soda"
          ],
          [
           "Jus shake",
           "Kopi"
          ],
          [
           "Teh often",
           "Kopi"
          ],
          [
           "Jus particular",
           "Kopi"
          ],
          [
           "Kopi between",
           "Teh"
          ],
          [
           "Air Mineral power",
           "Soda"
          ],
          [
           "Kopi wall",
           "Teh"
          ],
          [
           "Kopi realize",
           "Soda"
          ],
          [
           "Kopi until",
           "Air Mineral"
          ],
          [
           "Soda nation",
           "Teh"
          ],
          [
           "Soda forget",
           "Jus"
          ],
          [
           "Kopi field",
           "Jus"
          ],
          [
           "Teh pull",
           "Air Mineral"
          ],
          [
           "Soda behavior",
           "Teh"
          ],
          [
           "Soda visit",
           "Soda"
          ],
          [
           "Teh traditional",
           "Soda"
          ],
          [
           "Air Mineral magazine",
           "Air Mineral"
          ],
          [
           "Jus house",
           "Teh"
          ],
          [
           "Soda worker",
           "Jus"
          ],
          [
           "Soda go",
           "Air Mineral"
          ],
          [
           "Kopi eight",
           "Jus"
          ],
          [
           "Soda major",
           "Teh"
          ],
          [
           "Soda rock",
           "Jus"
          ],
          [
           "Jus action",
           "Teh"
          ],
          [
           "Soda respond",
           "Jus"
          ],
          [
           "Jus get",
           "Teh"
          ],
          [
           "Air Mineral message",
           "Teh"
          ],
          [
           "Air Mineral condition",
           "Kopi"
          ],
          [
           "Jus try",
           "Jus"
          ],
          [
           "Kopi support",
           "Kopi"
          ],
          [
           "Soda trial",
           "Air Mineral"
          ],
          [
           "Kopi anything",
           "Teh"
          ],
          [
           "Teh knowledge",
           "Jus"
          ],
          [
           "Air Mineral second",
           "Soda"
          ],
          [
           "Teh music",
           "Teh"
          ],
          [
           "Soda idea",
           "Kopi"
          ],
          [
           "Kopi fact",
           "Jus"
          ],
          [
           "Teh structure",
           "Soda"
          ],
          [
           "Air Mineral future",
           "Kopi"
          ],
          [
           "Teh population",
           "Teh"
          ],
          [
           "Jus appear",
           "Soda"
          ],
          [
           "Kopi human",
           "Jus"
          ],
          [
           "Soda add",
           "Kopi"
          ],
          [
           "Kopi environment",
           "Air Mineral"
          ],
          [
           "Kopi career",
           "Soda"
          ],
          [
           "Kopi fund",
           "Air Mineral"
          ],
          [
           "Jus off",
           "Jus"
          ],
          [
           "Kopi wall",
           "Jus"
          ],
          [
           "Teh property",
           "Soda"
          ],
          [
           "Kopi region",
           "Air Mineral"
          ],
          [
           "Soda resource",
           "Teh"
          ],
          [
           "Air Mineral science",
           "Soda"
          ],
          [
           "Soda have",
           "Jus"
          ],
          [
           "Soda wait",
           "Air Mineral"
          ],
          [
           "Jus win",
           "Teh"
          ],
          [
           "Jus economy",
           "Teh"
          ],
          [
           "Kopi right",
           "Soda"
          ],
          [
           "Jus think",
           "Kopi"
          ],
          [
           "Jus give",
           "Soda"
          ],
          [
           "Kopi because",
           "Jus"
          ],
          [
           "Soda blood",
           "Soda"
          ],
          [
           "Kopi door",
           "Jus"
          ],
          [
           "Air Mineral eye",
           "Kopi"
          ],
          [
           "Jus pass",
           "Soda"
          ],
          [
           "Jus eat",
           "Air Mineral"
          ],
          [
           "Jus look",
           "Soda"
          ],
          [
           "Soda particularly",
           "Air Mineral"
          ],
          [
           "Teh specific",
           "Jus"
          ],
          [
           "Jus age",
           "Jus"
          ],
          [
           "Kopi continue",
           "Kopi"
          ],
          [
           "Teh apply",
           "Soda"
          ],
          [
           "Air Mineral radio",
           "Jus"
          ],
          [
           "Soda certainly",
           "Jus"
          ],
          [
           "Teh enjoy",
           "Teh"
          ],
          [
           "Air Mineral soon",
           "Jus"
          ],
          [
           "Soda rule",
           "Jus"
          ],
          [
           "Kopi conference",
           "Soda"
          ],
          [
           "Kopi seek",
           "Soda"
          ],
          [
           "Air Mineral especially",
           "Soda"
          ],
          [
           "Kopi image",
           "Jus"
          ],
          [
           "Kopi idea",
           "Air Mineral"
          ],
          [
           "Air Mineral hard",
           "Jus"
          ],
          [
           "Teh water",
           "Teh"
          ],
          [
           "Kopi there",
           "Air Mineral"
          ],
          [
           "Kopi as",
           "Teh"
          ],
          [
           "Air Mineral machine",
           "Air Mineral"
          ],
          [
           "Air Mineral property",
           "Air Mineral"
          ],
          [
           "Kopi very",
           "Air Mineral"
          ],
          [
           "Soda herself",
           "Air Mineral"
          ],
          [
           "Jus painting",
           "Soda"
          ],
          [
           "Soda region",
           "Jus"
          ],
          [
           "Jus raise",
           "Soda"
          ],
          [
           "Jus top",
           "Soda"
          ],
          [
           "Jus ago",
           "Kopi"
          ],
          [
           "Soda purpose",
           "Soda"
          ],
          [
           "Teh protect",
           "Soda"
          ],
          [
           "Soda card",
           "Teh"
          ],
          [
           "Soda new",
           "Jus"
          ],
          [
           "Jus create",
           "Kopi"
          ],
          [
           "Kopi lead",
           "Kopi"
          ],
          [
           "Soda heavy",
           "Teh"
          ],
          [
           "Teh pressure",
           "Air Mineral"
          ],
          [
           "Jus cut",
           "Kopi"
          ],
          [
           "Air Mineral race",
           "Air Mineral"
          ],
          [
           "Teh fish",
           "Kopi"
          ],
          [
           "Jus hotel",
           "Jus"
          ],
          [
           "Air Mineral happy",
           "Air Mineral"
          ],
          [
           "Jus be",
           "Air Mineral"
          ],
          [
           "Kopi upon",
           "Air Mineral"
          ],
          [
           "Air Mineral woman",
           "Jus"
          ],
          [
           "Teh both",
           "Kopi"
          ],
          [
           "Teh deep",
           "Teh"
          ],
          [
           "Soda when",
           "Kopi"
          ],
          [
           "Soda dinner",
           "Soda"
          ],
          [
           "Air Mineral fund",
           "Jus"
          ],
          [
           "Teh its",
           "Jus"
          ],
          [
           "Kopi raise",
           "Air Mineral"
          ],
          [
           "Air Mineral sort",
           "Jus"
          ],
          [
           "Air Mineral center",
           "Kopi"
          ],
          [
           "Jus color",
           "Jus"
          ],
          [
           "Jus enter",
           "Kopi"
          ],
          [
           "Jus wide",
           "Jus"
          ],
          [
           "Teh capital",
           "Teh"
          ],
          [
           "Jus reflect",
           "Teh"
          ],
          [
           "Soda morning",
           "Kopi"
          ],
          [
           "Teh plan",
           "Teh"
          ],
          [
           "Teh here",
           "Air Mineral"
          ],
          [
           "Kopi have",
           "Teh"
          ],
          [
           "Teh drop",
           "Air Mineral"
          ],
          [
           "Air Mineral focus",
           "Teh"
          ],
          [
           "Soda couple",
           "Kopi"
          ],
          [
           "Teh land",
           "Jus"
          ],
          [
           "Air Mineral important",
           "Jus"
          ],
          [
           "Jus truth",
           "Jus"
          ],
          [
           "Teh large",
           "Kopi"
          ],
          [
           "Soda shake",
           "Soda"
          ],
          [
           "Jus if",
           "Jus"
          ],
          [
           "Kopi course",
           "Teh"
          ],
          [
           "Soda about",
           "Air Mineral"
          ],
          [
           "Teh him",
           "Kopi"
          ],
          [
           "Teh on",
           "Air Mineral"
          ],
          [
           "Jus seek",
           "Air Mineral"
          ],
          [
           "Air Mineral significant",
           "Air Mineral"
          ],
          [
           "Teh statement",
           "Teh"
          ],
          [
           "Teh series",
           "Air Mineral"
          ],
          [
           "Air Mineral avoid",
           "Soda"
          ],
          [
           "Jus research",
           "Soda"
          ],
          [
           "Kopi sign",
           "Soda"
          ],
          [
           "Jus there",
           "Air Mineral"
          ],
          [
           "Teh end",
           "Teh"
          ],
          [
           "Air Mineral politics",
           "Jus"
          ],
          [
           "Teh true",
           "Jus"
          ],
          [
           "Air Mineral student",
           "Soda"
          ],
          [
           "Air Mineral since",
           "Teh"
          ],
          [
           "Jus kitchen",
           "Jus"
          ],
          [
           "Air Mineral medical",
           "Air Mineral"
          ],
          [
           "Teh star",
           "Teh"
          ],
          [
           "Air Mineral although",
           "Kopi"
          ],
          [
           "Teh image",
           "Jus"
          ],
          [
           "Soda possible",
           "Soda"
          ],
          [
           "Kopi east",
           "Soda"
          ],
          [
           "Soda our",
           "Kopi"
          ],
          [
           "Jus worry",
           "Soda"
          ],
          [
           "Air Mineral trade",
           "Air Mineral"
          ],
          [
           "Air Mineral product",
           "Air Mineral"
          ],
          [
           "Kopi charge",
           "Soda"
          ],
          [
           "Teh message",
           "Jus"
          ],
          [
           "Kopi mouth",
           "Teh"
          ],
          [
           "Soda author",
           "Soda"
          ],
          [
           "Jus interesting",
           "Soda"
          ],
          [
           "Air Mineral list",
           "Jus"
          ],
          [
           "Jus politics",
           "Jus"
          ],
          [
           "Soda truth",
           "Jus"
          ],
          [
           "Teh consider",
           "Air Mineral"
          ],
          [
           "Kopi tree",
           "Jus"
          ],
          [
           "Air Mineral degree",
           "Jus"
          ],
          [
           "Kopi now",
           "Jus"
          ],
          [
           "Kopi why",
           "Teh"
          ],
          [
           "Jus future",
           "Jus"
          ],
          [
           "Air Mineral window",
           "Jus"
          ],
          [
           "Kopi choose",
           "Teh"
          ],
          [
           "Air Mineral and",
           "Jus"
          ],
          [
           "Soda can",
           "Jus"
          ],
          [
           "Kopi return",
           "Teh"
          ],
          [
           "Soda wear",
           "Teh"
          ],
          [
           "Air Mineral least",
           "Teh"
          ],
          [
           "Soda movie",
           "Jus"
          ],
          [
           "Jus better",
           "Air Mineral"
          ],
          [
           "Jus maintain",
           "Kopi"
          ],
          [
           "Air Mineral full",
           "Kopi"
          ],
          [
           "Jus change",
           "Soda"
          ],
          [
           "Soda green",
           "Soda"
          ],
          [
           "Jus real",
           "Jus"
          ],
          [
           "Kopi ten",
           "Air Mineral"
          ],
          [
           "Jus food",
           "Kopi"
          ],
          [
           "Air Mineral commercial",
           "Soda"
          ],
          [
           "Kopi fast",
           "Kopi"
          ],
          [
           "Kopi throughout",
           "Air Mineral"
          ],
          [
           "Jus old",
           "Jus"
          ],
          [
           "Jus responsibility",
           "Kopi"
          ],
          [
           "Air Mineral artist",
           "Soda"
          ],
          [
           "Jus but",
           "Teh"
          ],
          [
           "Teh ago",
           "Jus"
          ],
          [
           "Teh cold",
           "Kopi"
          ],
          [
           "Air Mineral ok",
           "Kopi"
          ],
          [
           "Air Mineral street",
           "Kopi"
          ],
          [
           "Teh need",
           "Teh"
          ],
          [
           "Jus billion",
           "Soda"
          ],
          [
           "Kopi old",
           "Air Mineral"
          ],
          [
           "Jus him",
           "Kopi"
          ],
          [
           "Air Mineral cover",
           "Air Mineral"
          ],
          [
           "Air Mineral despite",
           "Teh"
          ],
          [
           "Kopi Congress",
           "Kopi"
          ]
         ],
         "hovertemplate": "Status Sehat=Sehat<br>Gula (g)=%{x}<br>Kalori=%{y}<br>Nama Minuman=%{customdata[0]}<br>Jenis=%{customdata[1]}<extra></extra>",
         "legendgroup": "Sehat",
         "marker": {
          "color": "#EF553B",
          "symbol": "circle"
         },
         "mode": "markers",
         "name": "Sehat",
         "orientation": "v",
         "showlegend": true,
         "type": "scatter",
         "x": {
          "bdata": "FxEIFh4EJwsNCRoRJQIREygmEh0EHAoDIQMiEQsEJxIeIyUWARAiKBkhGBQHBhokGQ4EDAonEiAfGQQQGg4WBRcQHBYGEwEEDhAmGgEHFxQKIw4TCSgaIhUQAQcZGigABhYfDwwXFCQjFhkQJgURAQoSGBAYJgIBEyEMGAIiIxgZDRUJGwIFBxAHBBcCBgwRExEJDhoUDwoGGhsWBA0fCygFJgYXHxsBJQwGJhIAHSUfHx8bFx4gARERHxwJJA8CCSIhAhEeJB8JBwgRGAIRHAogHAQRJxoUIR4gEgAGFhQLAA8EBgYDDwkWJBccCAgeJgETCCUJDAsFJwgICB0UJyQRFwUBHw8MGwIeFAwPJyUaGhcCAiEkBgIfJxAaISUKGxIoEAoHBhobAiglBRIYFgMCERUHDRsbAyUoDQAoDgQDHgwWKB0AGAAMERokIB8gEgQUIA0oEA0YFhMKCA8LFA8jHSQKCw0RFxEREwMgHxwAEgwcDAsTEiULABYSIiMDEgUFBwgIBiYgFAcUIygiDAwoGSUaHgoRHiEUHR4UBSIjFigmACMOGAIXBSYTBBUXHwcaIyEAIA4UGQIbEhodCyUYJhYiAAATJgMVEhAdIQENFwgiIgMCExcbKAMTERQjGSQRFwEjHQQiEhYkDg4MBw==",
          "dtype": "i1"
         },
         "xaxis": "x",
         "y": {
          "bdata": "GwDBAAoARgCOAC0AVQAXALUAIwDyANsA9gA7AG8AOQAXAMEALQCgACMA1gBSAKMApABPAB8AtQDPAM0ADQAdADEA0wA3ANAA2wC6AIEAMQD5ALkAhAA2ANcAEgDwAGgApABnAKAAIgAGAPQAJgDNAAEArADhADEACQB5AAcAGwC/AF0A9ADGAEAAwQA0ADsASAB5AE0A4wCSABEAfAAiAOAAcwBXAEoAHgCDAJ0ANQBHAEkAPwD4ACwArQCqAL8AwACRALwAGACpAJMAPgAqAFkAKQClADYA2gAqAIEAFgCFAIQAZgB3AHYA0wDxAHsAeQDqAAEAjwCUAGoAZQDkAHcADAAhAH0AnQCBAM4AaQC6AK8AlAD3AF8AggBeAMEAgQDdAF0AngDhAA0AjACOAGAAJgCFAIgAKQAdAIUAmwDtAG4AkAD0AKoA5ADZAOMAewCTAOUA0gACADUAlgAOAOcApQCPAM0AAABnAOcAEgAsANAAjgALAHgARwChAIkAKgBuAAsA9QDUANwAlwB0AEwAYwAsAIsA0gDLABsAhQBEAEAAYACrAOcAsgAoAIAAAQCbAAIATAA+AKoANQBEAH0AlQCqAF4A+AAVAD4AjACDAEgAnAALAL8A7AAbAIoAYAAPAHsAtQC9AHkA9gCPAL8AsQAPAB0AxwDpAKsACgCcAEwAmgC0APEA0QC1AIUAOwDNAKsACQAnAFkALwCGAPMAkAA8ACcA1QA7AB0AgABZADUAmQCcABYAWADYABgAXwCeAFMAqQCrANoAjgC4ADEAyAAlAOUA3ACxABkAGgDyAJAAmgCLAMEA3QACABMA9wBxAG4A7QB1ACgAZQDbANUA2wDQAHwAkQC/AIQADACIAPYADwAQAI4AAgBiAD0A2wB4AOwAFgCJABoAoQBbAOQAwACPANoA3wD0ACgAtADHAOMAYQB3AD8AVgBrACUALQD5ACQA6QDeABgA3wABAOUAoQB/AEYAwQAAAK0ANgCBAEEAdwBDAGEAxwAHALQAhAAoAMAANgAYAGEAaQDVALkAoADZALkASgCIANoAMwAqALcAjQArALcAcwDMAOcAcQCEALMAFwC2ALgABQCbAHcAqABoALoAywAAABMAmwDuACIAlwCHAJIAVABNAOgA2gCkAPoAXQD1AKQA5gBIABwAygBrAD4A3gDNAB8ApwDGAGUAVwDoABYA3gBzABEAWwAnABYAxwDQAH0AQQDIAKQACgCJALsAegAcAAgA7wB3AAIAhwBxAJYAfQCjALEAMwACAK0A2wCRAIoAYQAVAKQAsQAPALAAXQDYACAAjgA=",
          "dtype": "i2"
         },
         "yaxis": "y"
        },
        {
         "marker": {
          "color": "red",
          "size": 15,
          "symbol": "star"
         },
         "name": "Point to Classify",
         "type": "scatter",
         "x": [
          20
         ],
         "y": [
          150
         ]
        }
       ],
       "layout": {
        "height": 400,
        "legend": {
         "title": {
          "text": "Status Sehat"
         },
         "tracegroupgap": 0
        },
        "template": {
         "data": {
          "bar": [
           {
            "error_x": {
             "color": "#2a3f5f"
            },
            "error_y": {
             "color": "#2a3f5f"
            },
            "marker": {
             "line": {
              "color": "#E5ECF6",
              "width": 0.5
             },
             "pattern": {
              "fillmode": "overlay",
              "size": 10,
              "solidity": 0.2
             }
            },
            "type": "bar"
           }
          ],
          "barpolar": [
           {
            "marker": {
             "line": {
              "color": "#E5ECF6",
              "width": 0.5
             },
             "pattern": {
              "fillmode": "overlay",
              "size": 10,
              "solidity": 0.2
             }
            },
            "type": "barpolar"
           }
          ],
          "carpet": [
           {
            "aaxis": {
             "endlinecolor": "#2a3f5f",
             "gridcolor": "white",
             "linecolor": "white",
             "minorgridcolor": "white",
             "startlinecolor": "#2a3f5f"
            },
            "baxis": {
             "endlinecolor": "#2a3f5f",
             "gridcolor": "white",
             "linecolor": "white",
             "minorgridcolor": "white",
             "startlinecolor": "#2a3f5f"
            },
            "type": "carpet"
           }
          ],
          "choropleth": [
           {
            "colorbar": {
             "outlinewidth": 0,
             "ticks": ""
            },
            "type": "choropleth"
           }
          ],
          "contour": [
           {
            "colorbar": {
             "outlinewidth": 0,
             "ticks": ""
            },
            "colorscale": [
             [
              0,
              "#0d0887"
             ],
             [
              0.1111111111111111,
              "#46039f"
             ],
             [
              0.2222222222222222,
              "#7201a8"
             ],
             [
              0.3333333333333333,
              "#9c179e"
             ],
             [
              0.4444444444444444,
              "#bd3786"
             ],
             [
              0.5555555555555556,
              "#d8576b"
             ],
             [
              0.6666666666666666,
              "#ed7953"
             ],
             [
              0.7777777777777778,
              "#fb9f3a"
             ],
             [
              0.8888888888888888,
              "#fdca26"
             ],
             [
              1,
              "#f0f921"
             ]
            ],
            "type": "contour"
           }
          ],
          "contourcarpet": [
           {
            "colorbar": {
             "outlinewidth": 0,
             "ticks": ""
            },
            "type": "contourcarpet"
           }
          ],
          "heatmap": [
           {
            "colorbar": {
             "outlinewidth": 0,
             "ticks": ""
            },
            "colorscale": [
             [
              0,
              "#0d0887"
             ],
             [
              0.1111111111111111,
              "#46039f"
             ],
             [
              0.2222222222222222,
              "#7201a8"
             ],
             [
              0.3333333333333333,
              "#9c179e"
             ],
             [
              0.4444444444444444,
              "#bd3786"
             ],
             [
              0.5555555555555556,
              "#d8576b"
             ],
             [
              0.6666666666666666,
              "#ed7953"
             ],
             [
              0.7777777777777778,
              "#fb9f3a"
             ],
             [
              0.8888888888888888,
              "#fdca26"
             ],
             [
              1,
              "#f0f921"
             ]
            ],
            "type": "heatmap"
           }
          ],
          "histogram": [
           {
            "marker": {
             "pattern": {
              "fillmode": "overlay",
              "size": 10,
              "solidity": 0.2
             }
            },
            "type": "histogram"
           }
          ],
          "histogram2d": [
           {
            "colorbar": {
             "outlinewidth": 0,
             "ticks": ""
            },
            "colorscale": [
             [
              0,
              "#0d0887"
             ],
             [
              0.1111111111111111,
              "#46039f"
             ],
             [
              0.2222222222222222,
              "#7201a8"
             ],
             [
              0.3333333333333333,
              "#9c179e"
             ],
             [
              0.4444444444444444,
              "#bd3786"
             ],
             [
              0.5555555555555556,
              "#d8576b"
             ],
             [
              0.6666666666666666,
              "#ed7953"
             ],
             [
              0.7777777777777778,
              "#fb9f3a"
             ],
             [
              0.8888888888888888,
              "#fdca26"
             ],
             [
              1,
              "#f0f921"
             ]
            ],
            "type": "histogram2d"
           }
          ],
          "histogram2dcontour": [
           {
            "colorbar": {
             "outlinewidth": 0,
             "ticks": ""
            },
            "colorscale": [
             [
              0,
              "#0d0887"
             ],
             [
              0.1111111111111111,
              "#46039f"
             ],
             [
              0.2222222222222222,
              "#7201a8"
             ],
             [
              0.3333333333333333,
              "#9c179e"
             ],
             [
              0.4444444444444444,
              "#bd3786"
             ],
             [
              0.5555555555555556,
              "#d8576b"
             ],
             [
              0.6666666666666666,
              "#ed7953"
             ],
             [
              0.7777777777777778,
              "#fb9f3a"
             ],
             [
              0.8888888888888888,
              "#fdca26"
             ],
             [
              1,
              "#f0f921"
             ]
            ],
            "type": "histogram2dcontour"
           }
          ],
          "mesh3d": [
           {
            "colorbar": {
             "outlinewidth": 0,
             "ticks": ""
            },
            "type": "mesh3d"
           }
          ],
          "parcoords": [
           {
            "line": {
             "colorbar": {
              "outlinewidth": 0,
              "ticks": ""
             }
            },
            "type": "parcoords"
           }
          ],
          "pie": [
           {
            "automargin": true,
            "type": "pie"
           }
          ],
          "scatter": [
           {
            "fillpattern": {
             "fillmode": "overlay",
             "size": 10,
             "solidity": 0.2
            },
            "type": "scatter"
           }
          ],
          "scatter3d": [
           {
            "line": {
             "colorbar": {
              "outlinewidth": 0,
              "ticks": ""
             }
            },
            "marker": {
             "colorbar": {
              "outlinewidth": 0,
              "ticks": ""
             }
            },
            "type": "scatter3d"
           }
          ],
          "scattercarpet": [
           {
            "marker": {
             "colorbar": {
              "outlinewidth": 0,
              "ticks": ""
             }
            },
            "type": "scattercarpet"
           }
          ],
          "scattergeo": [
           {
            "marker": {
             "colorbar": {
              "outlinewidth": 0,
              "ticks": ""
             }
            },
            "type": "scattergeo"
           }
          ],
          "scattergl": [
           {
            "marker": {
             "colorbar": {
              "outlinewidth": 0,
              "ticks": ""
             }
            },
            "type": "scattergl"
           }
          ],
          "scattermap": [
           {
            "marker": {
             "colorbar": {
              "outlinewidth": 0,
              "ticks": ""
             }
            },
            "type": "scattermap"
           }
          ],
          "scattermapbox": [
           {
            "marker": {
             "colorbar": {
              "outlinewidth": 0,
              "ticks": ""
             }
            },
            "type": "scattermapbox"
           }
          ],
          "scatterpolar": [
           {
            "marker": {
             "colorbar": {
              "outlinewidth": 0,
              "ticks": ""
             }
            },
            "type": "scatterpolar"
           }
          ],
          "scatterpolargl": [
           {
            "marker": {
             "colorbar": {
              "outlinewidth": 0,
              "ticks": ""
             }
            },
            "type": "scatterpolargl"
           }
          ],
          "scatterternary": [
           {
            "marker": {
             "colorbar": {
              "outlinewidth": 0,
              "ticks": ""
             }
            },
            "type": "scatterternary"
           }
          ],
          "surface": [
           {
            "colorbar": {
             "outlinewidth": 0,
             "ticks": ""
            },
            "colorscale": [
             [
              0,
              "#0d0887"
             ],
             [
              0.1111111111111111,
              "#46039f"
             ],
             [
              0.2222222222222222,
              "#7201a8"
             ],
             [
              0.3333333333333333,
              "#9c179e"
             ],
             [
              0.4444444444444444,
              "#bd3786"
             ],
             [
              0.5555555555555556,
              "#d8576b"
             ],
             [
              0.6666666666666666,
              "#ed7953"
             ],
             [
              0.7777777777777778,
              "#fb9f3a"
             ],
             [
              0.8888888888888888,
              "#fdca26"
             ],
             [
              1,
              "#f0f921"
             ]
            ],
            "type": "surface"
           }
          ],
          "table": [
           {
            "cells": {
             "fill": {
              "color": "#EBF0F8"
             },
             "line": {
              "color": "white"
             }
            },
            "header": {
             "fill": {
              "color": "#C8D4E3"
             },
             "line": {
              "color": "white"
             }
            },
            "type": "table"
           }
          ]
         },
         "layout": {
          "annotationdefaults": {
           "arrowcolor": "#2a3f5f",
           "arrowhead": 0,
           "arrowwidth": 1
          },
          "autotypenumbers": "strict",
          "coloraxis": {
           "colorbar": {
            "outlinewidth": 0,
            "ticks": ""
           }
          },
          "colorscale": {
           "diverging": [
            [
             0,
             "#8e0152"
            ],
            [
             0.1,
             "#c51b7d"
            ],
            [
             0.2,
             "#de77ae"
            ],
            [
             0.3,
             "#f1b6da"
            ],
            [
             0.4,
             "#fde0ef"
            ],
            [
             0.5,
             "#f7f7f7"
            ],
            [
             0.6,
             "#e6f5d0"
            ],
            [
             0.7,
             "#b8e186"
            ],
            [
             0.8,
             "#7fbc41"
            ],
            [
             0.9,
             "#4d9221"
            ],
            [
             1,
             "#276419"
            ]
           ],
           "sequential": [
            [
             0,
             "#0d0887"
            ],
            [
             0.1111111111111111,
             "#46039f"
            ],
            [
             0.2222222222222222,
             "#7201a8"
            ],
            [
             0.3333333333333333,
             "#9c179e"
            ],
            [
             0.4444444444444444,
             "#bd3786"
            ],
            [
             0.5555555555555556,
             "#d8576b"
            ],
            [
             0.6666666666666666,
             "#ed7953"
            ],
            [
             0.7777777777777778,
             "#fb9f3a"
            ],
            [
             0.8888888888888888,
             "#fdca26"
            ],
            [
             1,
             "#f0f921"
            ]
           ],
           "sequentialminus": [
            [
             0,
             "#0d0887"
            ],
            [
             0.1111111111111111,
             "#46039f"
            ],
            [
             0.2222222222222222,
             "#7201a8"
            ],
            [
             0.3333333333333333,
             "#9c179e"
            ],
            [
             0.4444444444444444,
             "#bd3786"
            ],
            [
             0.5555555555555556,
             "#d8576b"
            ],
            [
             0.6666666666666666,
             "#ed7953"
            ],
            [
             0.7777777777777778,
             "#fb9f3a"
            ],
            [
             0.8888888888888888,
             "#fdca26"
            ],
            [
             1,
             "#f0f921"
            ]
           ]
          },
          "colorway": [
           "#636efa",
           "#EF553B",
           "#00cc96",
           "#ab63fa",
           "#FFA15A",
           "#19d3f3",
           "#FF6692",
           "#B6E880",
           "#FF97FF",
           "#FECB52"
          ],
          "font": {
           "color": "#2a3f5f"
          },
          "geo": {
           "bgcolor": "white",
           "lakecolor": "white",
           "landcolor": "#E5ECF6",
           "showlakes": true,
           "showland": true,
           "subunitcolor": "white"
          },
          "hoverlabel": {
           "align": "left"
          },
          "hovermode": "closest",
          "mapbox": {
           "style": "light"
          },
          "paper_bgcolor": "white",
          "plot_bgcolor": "#E5ECF6",
          "polar": {
           "angularaxis": {
            "gridcolor": "white",
            "linecolor": "white",
            "ticks": ""
           },
           "bgcolor": "#E5ECF6",
           "radialaxis": {
            "gridcolor": "white",
            "linecolor": "white",
            "ticks": ""
           }
          },
          "scene": {
           "xaxis": {
            "backgroundcolor": "#E5ECF6",
            "gridcolor": "white",
            "gridwidth": 2,
            "linecolor": "white",
            "showbackground": true,
            "ticks": "",
            "zerolinecolor": "white"
           },
           "yaxis": {
            "backgroundcolor": "#E5ECF6",
            "gridcolor": "white",
            "gridwidth": 2,
            "linecolor": "white",
            "showbackground": true,
            "ticks": "",
            "zerolinecolor": "white"
           },
           "zaxis": {
            "backgroundcolor": "#E5ECF6",
            "gridcolor": "white",
            "gridwidth": 2,
            "linecolor": "white",
            "showbackground": true,
            "ticks": "",
            "zerolinecolor": "white"
           }
          },
          "shapedefaults": {
           "line": {
            "color": "#2a3f5f"
           }
          },
          "ternary": {
           "aaxis": {
            "gridcolor": "white",
            "linecolor": "white",
            "ticks": ""
           },
           "baxis": {
            "gridcolor": "white",
            "linecolor": "white",
            "ticks": ""
           },
           "bgcolor": "#E5ECF6",
           "caxis": {
            "gridcolor": "white",
            "linecolor": "white",
            "ticks": ""
           }
          },
          "title": {
           "x": 0.05
          },
          "xaxis": {
           "automargin": true,
           "gridcolor": "white",
           "linecolor": "white",
           "ticks": "",
           "title": {
            "standoff": 15
           },
           "zerolinecolor": "white",
           "zerolinewidth": 2
          },
          "yaxis": {
           "automargin": true,
           "gridcolor": "white",
           "linecolor": "white",
           "ticks": "",
           "title": {
            "standoff": 15
           },
           "zerolinecolor": "white",
           "zerolinewidth": 2
          }
         }
        },
        "title": {
         "text": "Visualisasi Dataset Minuman"
        },
        "width": 800,
        "xaxis": {
         "anchor": "y",
         "domain": [
          0,
          1
         ],
         "title": {
          "text": "Gula (g)"
         }
        },
        "yaxis": {
         "anchor": "x",
         "domain": [
          0,
          1
         ],
         "title": {
          "text": "Kalori"
         }
        }
       }
      }
     },
     "metadata": {},
     "output_type": "display_data"
    },
    {
     "name": "stdout",
     "output_type": "stream",
     "text": [
      "\n",
      "=== HASIL KNN dengan K=3 ===\n",
      "Nearest Neighbours:\n",
      "    id  Gula (g)  Kalori     Jarak Status Sehat\n",
      "0  968        19     150  1.000000        Sehat\n",
      "1  106        21     152  2.236068  Tidak Sehat\n",
      "2  823        22     152  2.828427  Tidak Sehat\n",
      "\n",
      "Prediksi Status Sehat untuk minuman baru dengan:\n",
      "- Gula: 20 gram\n",
      "- Kalori: 150\n",
      "Hasil prediksi: Tidak Sehat\n"
     ]
    },
    {
     "data": {
      "application/vnd.plotly.v1+json": {
       "config": {
        "plotlyServerURL": "https://plot.ly"
       },
       "data": [
        {
         "hovertemplate": "Status Sehat=Tidak Sehat<br>Gula (g)=%{x}<br>Kalori=%{y}<extra></extra>",
         "legendgroup": "Tidak Sehat",
         "marker": {
          "color": "#636efa",
          "symbol": "circle"
         },
         "mode": "markers",
         "name": "Tidak Sehat",
         "orientation": "v",
         "showlegend": true,
         "type": "scatter",
         "x": {
          "bdata": "FxUVFBQPGRoWFRwMFhoRGxUcChwIEiANCBcIBxISIg0gEyMFCBsjFAkhIiMJDAMTESQlAh8aDSYYHAUnAA0PJQIjCyQGDQAQDCcJEhscJygWBAUHBxsVCCIiDx8AGh4DKA8jDgIiBgwhGCMWHwYUFg8ZCAAABiMFCRMlGwAMFhobGwYLEBkPHgcOEwsFHhskHygFCBQHKCcHIR4OHxsNAgoJGyAdExIWGgUSJBoNBxMBHwUkFRUhIRQLCAgQJiYnGhwDJyUGFwgoKCgRCCQLHhcjGgcOHAgeAgUKAiAOGg0NDQwGExgQIAoJGhoGAhgGHR0CHicHGwMMAhMYGxscCREaDQETEQ0FIx4UICEiBBYnESAOHQkVAwUKJCUPByEBBCcFCRoNAxYhDgMgEQIbJRAOKBYODRMkJRkiJxMWEBUWEQAKCBAYGw8EFBMQJhoFJAcXGSQDJx4CGiUgDiUfIRIGCCYIIxwMCRQMBAooDyMMCgcnBhEcCx8UGCYIHgYGGg0HKBcPDwMAFhYdBhAEHwUFJQYkIAgUJRADDg8EBwcbHgUPAiIUJhEHGhsfABMNBBgYHiAjByIGBAMmIBQeGiQXGBsIFgEHJyEJCygHChYNJh4JHx8FFSIkHCgcCxIYABoOGyEkFiQODCAiBiICAAwjEgkDAg==",
          "dtype": "i1"
         },
         "xaxis": "x",
         "y": {
          "bdata": "lQCTAJoAmwCRAJQAmACXAJwAjwCVAJcAjgCcAI4AmwCNAJ0AnACfAJUAigCUAKAAkwCiAJsAlgCjAKQAmgCJAI0AhwCYAJMAoACkAJEAhgCKAIwAjQCOAKMAhgCcAKgAqACNAI8AmgClAIQAhACPAKkAhACJAJAAkwCDAIIAogCLAIcAggCHAIUAgQCMAKwAqwCKAKoArQCsAKwAiACJAH4AqACpAIEAgQB+AK8AgACBAIEAfQCtAKYAfQCuAIIApwB8AIAAsACCAH8ArgB7AH0AegCuALMAsQB8ALQAeAB4ALQAegCtAK4AsgCyAHoAeAB2ALIAtgB8AHYAdQB1AHUAtwB3AHUAuAC5ALkAuAC3AHMAcgBzAHUAcwByALcAcwB3AHQAcgC8ALoAtwB0ALsAuwC8AL0AcABvAG8AcgC9AG8AbgC9AG4AbQC/AG0AwABuAGsAbgDBAMEAbABqAG4AawBsAGwAaQBpAMIAwgBoAGgAaABoAGYAaQDDAGkAZQDHAMUAxQDGAGUAYwDIAMYAZgDGAMoAYwDIAMoAYgDLAGMAywDKAGAAYADMAM0AYQBgAM4AYABeAF0AXQDPAF0AzwBdAF4A0ABcAFwAzwBcAFwA0QBbAFwAXQDSAFsAWgDSANAAWgDQANIAWQDRAFkA0QDUAFgAWADUANQAWABXAFcA1QBZANYAVgDWANUA1QBWANcAVgDWAFYAVgBUAFYAUwDYANoAUgDaAFEAUwBSAFEA2gBSANwAUQBRANoAUQBRAFAA3QDeAE0ATgDgAE0ATABNAOAASwBNAEsA4ABKAEoASwDkAEgA5ABHAEgASABGAOUASABFAOcA5wBEAEQA6ADmAOgARABDAOkA6QDqAOkAQQDrAEEAQgDsAEEA6wDsAD8A7QDsAOwA7ADuAO0A7wDuAD0A8ADvADwAPADxADwAOwDxAPIAOgA5APMA8wA4APQAOQA4APMANwD0ADcA9QD1APQANwA2APcANQD3ADQANAA1ADQA+QAzAPkA+gD6ADIA+QAxADEAMAAxADEALwAuAC4ALQAsAC0ALAAsACsAKwAqACoAKAAoACcAKAAmACYAJAAjACMAIgAiACEAIQAhACAAIQAgAB8AIAAeAB4AHQAdAB0AHgAcABwAGwAaABoAGgAaABoAGQAZABkAGQAZABkAFwAWABYAFQAVABQAFAATABMAEgATABIAEgARABAADwAQAA8ADgANAA0ADgANAA0ADQANAA0ADAAMAAwACwAMAAoACgAJAAkACgAIAAgACAAIAAgABwAGAAUABQAFAAQABAAEAAQAAwABAAEAAAAAAAAAAAA=",
          "dtype": "i2"
         },
         "yaxis": "y"
        },
        {
         "hovertemplate": "Status Sehat=Sehat<br>Gula (g)=%{x}<br>Kalori=%{y}<extra></extra>",
         "legendgroup": "Sehat",
         "marker": {
          "color": "#EF553B",
          "symbol": "circle"
         },
         "mode": "markers",
         "name": "Sehat",
         "orientation": "v",
         "showlegend": true,
         "type": "scatter",
         "x": {
          "bdata": "ExcXERYYExAYEhoMHRobDhQLGRUPHg8SEQsQDx4KFB8dHxYNGSIFBx4NGSQEBiQkCCQSAhIWGxgfHAwEJgIhByMnCwEQAQoiABcfDA8oFBMRAwkUAiEZExEeCiUmGgwGBgAoACgRIgYWFwQLHQATJRISCSgCBygUExAOFCQjCREXECIZDw0lCRgBJwgeBRonBBQjAxokFB8QEB4AICEjHgAoER8iJgAlAxccHRYiJQUTERENBQwGBSgHACImAgcGDhYeGCQSGA8OKAglIiMZBxICHwEdHQgcChobGwYCIAwAJhAEDgsCAgUWCREQBAwjDR8YDyYRJiMjDiEmAhwLAwImJg4HGycEJQcKCh8SERcHIh4oJh4EEQ0BBRIDFR8IAxIRCgAJJhoTBBAaIxYYGA4OIx8VARYGHCQlIBERAB8gFBYXChMWHSELIRQgCAYNChQbEwEoAyACFxoAGyEaBAICARMaAw8cBiEnFBIQDAwlAgcWFyUfIgMHBgARGRkMARoQGx4oJxIXERkECAwlCRYFJBoECwUMKBIaAwIRESgJFBcEDBUMHSIJEg0IFCQXEQMIBRYYKA8KIAgLHRUaICgiAQYEDhsGEwEHGhYRCAEUJRgNJxccIRcIFBonFgIjCgUSGxsgICQMHB8hFwsj",
          "dtype": "i1"
         },
         "xaxis": "x",
         "y": {
          "bdata": "kgCTAJoAmgCRAJsAjwCcAI8AngCQAJMAlgCdAJ0AngCgAJsAjQCLAIwAmwCMAKEAiwCPAKEAoQCOAI4AowCPAKAAjgCIAIkApACbAJcAjgCKAKQApQCXAJQAjgCcAJwAiQCOAIQAlACEAKgAhQCEAKUAhQCFAKAAkACQAKQApACKAJkApwCSAKkAkQCFAKQAlQCqAIUAqQCqAJEAqwCBAIEAowCDAIAAiQCEAKwArQCtAKsAqwCGAIcArQB/AIIAqgCIAIgApACHAH0AgQCAAHwAfACrAH0AfQCEAHsAgQCxALEAfQCDAIEArwCqALMAeQB5AHkAtACwALEAeQC1AHcAdwB6AHcAtQC1AHsAeAB2AHsAsQC1ALYAtAC3ALIAeAC4AHcAtAC4AHcAuQB0ALoAugBzAHcAuQC5AHMAcQB1ALcAbwC8ALsAugBzAHEAcQC/AL8AvwDAAG4AvQBuAMEAwQDBAGsAvwDBAMAAwABuAMEAvwBqAMEAawBpAGkAZwDGAGcAZgBoAMcAZQDHAGUAaADHAMYAxwBlAMoAYwBhAMgAYgDIAGEAYQBhAGAAzADNAM0AXwBgAMsAzQBeAMsAYABdAM0AXQDPAF8AzQDOANAAXQDQANAAXgDQAF0AWwDRANIAWQBbANQA0gDTAFkAVwBYANMAWQDWAFYA1QDVANUAVwDYANcA2QBVAFQA2ADZAFIA2gDaANsA2wDbANoA2gDbAFMA2gDcANsA3QDdANsA3ADeAE8ATQDfAN8A3gBMAEwA4ADeAEwATQDhAEoA4QBJAOMASgBIAOQA5ABIAEgA4wDkAEcA4wBGAOUARgBHAOUA5gDnAOcA5QDnAOcARADoAOgARADpAEMA6QDqAEEAQQDsAEAA7ABAAO0APwA+AD4A7wA/AO0APgA9AO4APADwAD4AOwA7APIAOwA7APEA8QA5APMA8gD0APQA9AD1APQANgA2ADYA9gD2ADcA9QA2ADUA9wD2ADUANQD3APgA+AA1APkA+QAzADMANAD6ADEAMQAxADEALwAtAC0ALAAsAC0ALAAqACsAKgApACoAKgAoACkAKAAoACcAKAAmACYAJwAnACUAJAAlACMAIgAiACMAIgAhACAAHwAfAB4AHQAdAB0AHAAdABsAGwAcABsAGwAaABkAGgAYABgAGAAYABcAFwAWABYAFgAXABYAFgAVABUAEwATABIAEQASABEAEAAPAA8ADwAPAA0ADgAMAAwADQALAAsACwAKAAoACQAJAAoABwAIAAcABgAFAAIAAgACAAIAAgACAAEAAQABAAEAAAAAAAAA",
          "dtype": "i2"
         },
         "yaxis": "y"
        },
        {
         "line": {
          "dash": "dash"
         },
         "mode": "lines+markers",
         "name": "Neighbour 968 - Sehat",
         "type": "scatter",
         "x": [
          20,
          19
         ],
         "y": [
          150,
          150
         ]
        },
        {
         "line": {
          "dash": "dash"
         },
         "mode": "lines+markers",
         "name": "Neighbour 106 - Tidak Sehat",
         "type": "scatter",
         "x": [
          20,
          21
         ],
         "y": [
          150,
          152
         ]
        },
        {
         "line": {
          "dash": "dash"
         },
         "mode": "lines+markers",
         "name": "Neighbour 823 - Tidak Sehat",
         "type": "scatter",
         "x": [
          20,
          22
         ],
         "y": [
          150,
          152
         ]
        },
        {
         "marker": {
          "color": "red",
          "size": 15,
          "symbol": "star"
         },
         "name": "New Point - Predicted: Tidak Sehat",
         "type": "scatter",
         "x": [
          20
         ],
         "y": [
          150
         ]
        }
       ],
       "layout": {
        "height": 400,
        "legend": {
         "title": {
          "text": "Status Sehat"
         },
         "tracegroupgap": 0
        },
        "template": {
         "data": {
          "bar": [
           {
            "error_x": {
             "color": "#2a3f5f"
            },
            "error_y": {
             "color": "#2a3f5f"
            },
            "marker": {
             "line": {
              "color": "#E5ECF6",
              "width": 0.5
             },
             "pattern": {
              "fillmode": "overlay",
              "size": 10,
              "solidity": 0.2
             }
            },
            "type": "bar"
           }
          ],
          "barpolar": [
           {
            "marker": {
             "line": {
              "color": "#E5ECF6",
              "width": 0.5
             },
             "pattern": {
              "fillmode": "overlay",
              "size": 10,
              "solidity": 0.2
             }
            },
            "type": "barpolar"
           }
          ],
          "carpet": [
           {
            "aaxis": {
             "endlinecolor": "#2a3f5f",
             "gridcolor": "white",
             "linecolor": "white",
             "minorgridcolor": "white",
             "startlinecolor": "#2a3f5f"
            },
            "baxis": {
             "endlinecolor": "#2a3f5f",
             "gridcolor": "white",
             "linecolor": "white",
             "minorgridcolor": "white",
             "startlinecolor": "#2a3f5f"
            },
            "type": "carpet"
           }
          ],
          "choropleth": [
           {
            "colorbar": {
             "outlinewidth": 0,
             "ticks": ""
            },
            "type": "choropleth"
           }
          ],
          "contour": [
           {
            "colorbar": {
             "outlinewidth": 0,
             "ticks": ""
            },
            "colorscale": [
             [
              0,
              "#0d0887"
             ],
             [
              0.1111111111111111,
              "#46039f"
             ],
             [
              0.2222222222222222,
              "#7201a8"
             ],
             [
              0.3333333333333333,
              "#9c179e"
             ],
             [
              0.4444444444444444,
              "#bd3786"
             ],
             [
              0.5555555555555556,
              "#d8576b"
             ],
             [
              0.6666666666666666,
              "#ed7953"
             ],
             [
              0.7777777777777778,
              "#fb9f3a"
             ],
             [
              0.8888888888888888,
              "#fdca26"
             ],
             [
              1,
              "#f0f921"
             ]
            ],
            "type": "contour"
           }
          ],
          "contourcarpet": [
           {
            "colorbar": {
             "outlinewidth": 0,
             "ticks": ""
            },
            "type": "contourcarpet"
           }
          ],
          "heatmap": [
           {
            "colorbar": {
             "outlinewidth": 0,
             "ticks": ""
            },
            "colorscale": [
             [
              0,
              "#0d0887"
             ],
             [
              0.1111111111111111,
              "#46039f"
             ],
             [
              0.2222222222222222,
              "#7201a8"
             ],
             [
              0.3333333333333333,
              "#9c179e"
             ],
             [
              0.4444444444444444,
              "#bd3786"
             ],
             [
              0.5555555555555556,
              "#d8576b"
             ],
             [
              0.6666666666666666,
              "#ed7953"
             ],
             [
              0.7777777777777778,
              "#fb9f3a"
             ],
             [
              0.8888888888888888,
              "#fdca26"
             ],
             [
              1,
              "#f0f921"
             ]
            ],
            "type": "heatmap"
           }
          ],
          "histogram": [
           {
            "marker": {
             "pattern": {
              "fillmode": "overlay",
              "size": 10,
              "solidity": 0.2
             }
            },
            "type": "histogram"
           }
          ],
          "histogram2d": [
           {
            "colorbar": {
             "outlinewidth": 0,
             "ticks": ""
            },
            "colorscale": [
             [
              0,
              "#0d0887"
             ],
             [
              0.1111111111111111,
              "#46039f"
             ],
             [
              0.2222222222222222,
              "#7201a8"
             ],
             [
              0.3333333333333333,
              "#9c179e"
             ],
             [
              0.4444444444444444,
              "#bd3786"
             ],
             [
              0.5555555555555556,
              "#d8576b"
             ],
             [
              0.6666666666666666,
              "#ed7953"
             ],
             [
              0.7777777777777778,
              "#fb9f3a"
             ],
             [
              0.8888888888888888,
              "#fdca26"
             ],
             [
              1,
              "#f0f921"
             ]
            ],
            "type": "histogram2d"
           }
          ],
          "histogram2dcontour": [
           {
            "colorbar": {
             "outlinewidth": 0,
             "ticks": ""
            },
            "colorscale": [
             [
              0,
              "#0d0887"
             ],
             [
              0.1111111111111111,
              "#46039f"
             ],
             [
              0.2222222222222222,
              "#7201a8"
             ],
             [
              0.3333333333333333,
              "#9c179e"
             ],
             [
              0.4444444444444444,
              "#bd3786"
             ],
             [
              0.5555555555555556,
              "#d8576b"
             ],
             [
              0.6666666666666666,
              "#ed7953"
             ],
             [
              0.7777777777777778,
              "#fb9f3a"
             ],
             [
              0.8888888888888888,
              "#fdca26"
             ],
             [
              1,
              "#f0f921"
             ]
            ],
            "type": "histogram2dcontour"
           }
          ],
          "mesh3d": [
           {
            "colorbar": {
             "outlinewidth": 0,
             "ticks": ""
            },
            "type": "mesh3d"
           }
          ],
          "parcoords": [
           {
            "line": {
             "colorbar": {
              "outlinewidth": 0,
              "ticks": ""
             }
            },
            "type": "parcoords"
           }
          ],
          "pie": [
           {
            "automargin": true,
            "type": "pie"
           }
          ],
          "scatter": [
           {
            "fillpattern": {
             "fillmode": "overlay",
             "size": 10,
             "solidity": 0.2
            },
            "type": "scatter"
           }
          ],
          "scatter3d": [
           {
            "line": {
             "colorbar": {
              "outlinewidth": 0,
              "ticks": ""
             }
            },
            "marker": {
             "colorbar": {
              "outlinewidth": 0,
              "ticks": ""
             }
            },
            "type": "scatter3d"
           }
          ],
          "scattercarpet": [
           {
            "marker": {
             "colorbar": {
              "outlinewidth": 0,
              "ticks": ""
             }
            },
            "type": "scattercarpet"
           }
          ],
          "scattergeo": [
           {
            "marker": {
             "colorbar": {
              "outlinewidth": 0,
              "ticks": ""
             }
            },
            "type": "scattergeo"
           }
          ],
          "scattergl": [
           {
            "marker": {
             "colorbar": {
              "outlinewidth": 0,
              "ticks": ""
             }
            },
            "type": "scattergl"
           }
          ],
          "scattermap": [
           {
            "marker": {
             "colorbar": {
              "outlinewidth": 0,
              "ticks": ""
             }
            },
            "type": "scattermap"
           }
          ],
          "scattermapbox": [
           {
            "marker": {
             "colorbar": {
              "outlinewidth": 0,
              "ticks": ""
             }
            },
            "type": "scattermapbox"
           }
          ],
          "scatterpolar": [
           {
            "marker": {
             "colorbar": {
              "outlinewidth": 0,
              "ticks": ""
             }
            },
            "type": "scatterpolar"
           }
          ],
          "scatterpolargl": [
           {
            "marker": {
             "colorbar": {
              "outlinewidth": 0,
              "ticks": ""
             }
            },
            "type": "scatterpolargl"
           }
          ],
          "scatterternary": [
           {
            "marker": {
             "colorbar": {
              "outlinewidth": 0,
              "ticks": ""
             }
            },
            "type": "scatterternary"
           }
          ],
          "surface": [
           {
            "colorbar": {
             "outlinewidth": 0,
             "ticks": ""
            },
            "colorscale": [
             [
              0,
              "#0d0887"
             ],
             [
              0.1111111111111111,
              "#46039f"
             ],
             [
              0.2222222222222222,
              "#7201a8"
             ],
             [
              0.3333333333333333,
              "#9c179e"
             ],
             [
              0.4444444444444444,
              "#bd3786"
             ],
             [
              0.5555555555555556,
              "#d8576b"
             ],
             [
              0.6666666666666666,
              "#ed7953"
             ],
             [
              0.7777777777777778,
              "#fb9f3a"
             ],
             [
              0.8888888888888888,
              "#fdca26"
             ],
             [
              1,
              "#f0f921"
             ]
            ],
            "type": "surface"
           }
          ],
          "table": [
           {
            "cells": {
             "fill": {
              "color": "#EBF0F8"
             },
             "line": {
              "color": "white"
             }
            },
            "header": {
             "fill": {
              "color": "#C8D4E3"
             },
             "line": {
              "color": "white"
             }
            },
            "type": "table"
           }
          ]
         },
         "layout": {
          "annotationdefaults": {
           "arrowcolor": "#2a3f5f",
           "arrowhead": 0,
           "arrowwidth": 1
          },
          "autotypenumbers": "strict",
          "coloraxis": {
           "colorbar": {
            "outlinewidth": 0,
            "ticks": ""
           }
          },
          "colorscale": {
           "diverging": [
            [
             0,
             "#8e0152"
            ],
            [
             0.1,
             "#c51b7d"
            ],
            [
             0.2,
             "#de77ae"
            ],
            [
             0.3,
             "#f1b6da"
            ],
            [
             0.4,
             "#fde0ef"
            ],
            [
             0.5,
             "#f7f7f7"
            ],
            [
             0.6,
             "#e6f5d0"
            ],
            [
             0.7,
             "#b8e186"
            ],
            [
             0.8,
             "#7fbc41"
            ],
            [
             0.9,
             "#4d9221"
            ],
            [
             1,
             "#276419"
            ]
           ],
           "sequential": [
            [
             0,
             "#0d0887"
            ],
            [
             0.1111111111111111,
             "#46039f"
            ],
            [
             0.2222222222222222,
             "#7201a8"
            ],
            [
             0.3333333333333333,
             "#9c179e"
            ],
            [
             0.4444444444444444,
             "#bd3786"
            ],
            [
             0.5555555555555556,
             "#d8576b"
            ],
            [
             0.6666666666666666,
             "#ed7953"
            ],
            [
             0.7777777777777778,
             "#fb9f3a"
            ],
            [
             0.8888888888888888,
             "#fdca26"
            ],
            [
             1,
             "#f0f921"
            ]
           ],
           "sequentialminus": [
            [
             0,
             "#0d0887"
            ],
            [
             0.1111111111111111,
             "#46039f"
            ],
            [
             0.2222222222222222,
             "#7201a8"
            ],
            [
             0.3333333333333333,
             "#9c179e"
            ],
            [
             0.4444444444444444,
             "#bd3786"
            ],
            [
             0.5555555555555556,
             "#d8576b"
            ],
            [
             0.6666666666666666,
             "#ed7953"
            ],
            [
             0.7777777777777778,
             "#fb9f3a"
            ],
            [
             0.8888888888888888,
             "#fdca26"
            ],
            [
             1,
             "#f0f921"
            ]
           ]
          },
          "colorway": [
           "#636efa",
           "#EF553B",
           "#00cc96",
           "#ab63fa",
           "#FFA15A",
           "#19d3f3",
           "#FF6692",
           "#B6E880",
           "#FF97FF",
           "#FECB52"
          ],
          "font": {
           "color": "#2a3f5f"
          },
          "geo": {
           "bgcolor": "white",
           "lakecolor": "white",
           "landcolor": "#E5ECF6",
           "showlakes": true,
           "showland": true,
           "subunitcolor": "white"
          },
          "hoverlabel": {
           "align": "left"
          },
          "hovermode": "closest",
          "mapbox": {
           "style": "light"
          },
          "paper_bgcolor": "white",
          "plot_bgcolor": "#E5ECF6",
          "polar": {
           "angularaxis": {
            "gridcolor": "white",
            "linecolor": "white",
            "ticks": ""
           },
           "bgcolor": "#E5ECF6",
           "radialaxis": {
            "gridcolor": "white",
            "linecolor": "white",
            "ticks": ""
           }
          },
          "scene": {
           "xaxis": {
            "backgroundcolor": "#E5ECF6",
            "gridcolor": "white",
            "gridwidth": 2,
            "linecolor": "white",
            "showbackground": true,
            "ticks": "",
            "zerolinecolor": "white"
           },
           "yaxis": {
            "backgroundcolor": "#E5ECF6",
            "gridcolor": "white",
            "gridwidth": 2,
            "linecolor": "white",
            "showbackground": true,
            "ticks": "",
            "zerolinecolor": "white"
           },
           "zaxis": {
            "backgroundcolor": "#E5ECF6",
            "gridcolor": "white",
            "gridwidth": 2,
            "linecolor": "white",
            "showbackground": true,
            "ticks": "",
            "zerolinecolor": "white"
           }
          },
          "shapedefaults": {
           "line": {
            "color": "#2a3f5f"
           }
          },
          "ternary": {
           "aaxis": {
            "gridcolor": "white",
            "linecolor": "white",
            "ticks": ""
           },
           "baxis": {
            "gridcolor": "white",
            "linecolor": "white",
            "ticks": ""
           },
           "bgcolor": "#E5ECF6",
           "caxis": {
            "gridcolor": "white",
            "linecolor": "white",
            "ticks": ""
           }
          },
          "title": {
           "x": 0.05
          },
          "xaxis": {
           "automargin": true,
           "gridcolor": "white",
           "linecolor": "white",
           "ticks": "",
           "title": {
            "standoff": 15
           },
           "zerolinecolor": "white",
           "zerolinewidth": 2
          },
          "yaxis": {
           "automargin": true,
           "gridcolor": "white",
           "linecolor": "white",
           "ticks": "",
           "title": {
            "standoff": 15
           },
           "zerolinecolor": "white",
           "zerolinewidth": 2
          }
         }
        },
        "title": {
         "text": "Visualisasi KNN Prediction"
        },
        "width": 800,
        "xaxis": {
         "anchor": "y",
         "domain": [
          0,
          1
         ],
         "title": {
          "text": "Gula (g)"
         }
        },
        "yaxis": {
         "anchor": "x",
         "domain": [
          0,
          1
         ],
         "title": {
          "text": "Kalori"
         }
        }
       }
      }
     },
     "metadata": {},
     "output_type": "display_data"
    },
    {
     "name": "stdout",
     "output_type": "stream",
     "text": [
      "\n",
      "=== ANALISIS TAMBAHAN ===\n",
      "Rata-rata gula minuman sehat: 19.62 gram\n",
      "Rata-rata kalori minuman sehat: 125.88\n",
      "Rata-rata gula minuman tidak sehat: 19.85 gram\n",
      "Rata-rata kalori minuman tidak sehat: 118.03\n"
     ]
    }
   ],
   "source": [
    "# Import library\n",
    "import pandas as pd\n",
    "import plotly.express as px\n",
    "import plotly.graph_objects as go\n",
    "\n",
    "# Function to find the most occurring Label\n",
    "def get_label(neighbours, y):\n",
    "    sehat_count, tidak_sehat_count = 0, 0\n",
    "    for element in neighbours:\n",
    "        if y[element[1]] == 'Sehat':\n",
    "            sehat_count += 1\n",
    "        elif y[element[1]] == 'Tidak Sehat':\n",
    "            tidak_sehat_count += 1\n",
    "    if sehat_count == tidak_sehat_count:\n",
    "        return y[neighbours[0][1]]\n",
    "    return 'Sehat' if sehat_count > tidak_sehat_count else 'Tidak Sehat'\n",
    "\n",
    "# Function to calculate Euclidean Distance\n",
    "def distance(element1, element2):\n",
    "    x_distance = (element1[0] - element2[0]) ** 2\n",
    "    y_distance = (element1[1] - element2[1]) ** 2\n",
    "    return (x_distance + y_distance) ** 0.5\n",
    "\n",
    "# Function to find the distance between input point and all points in the dataset\n",
    "def find_nearest(x, y, input, k):\n",
    "    distances = []\n",
    "    for id, element in enumerate(x):\n",
    "        distances.append([distance(input, element), id])\n",
    "    distances = sorted(distances)\n",
    "    predicted_label = get_label(distances[0:k], y)\n",
    "    return predicted_label, distances[0:k], distances[k:]\n",
    "\n",
    "# Mengimpor data dari file CSV ke dalam DataFrame\n",
    "df = pd.read_csv('Dataset - 8.csv')\n",
    "\n",
    "print(\"Dataset Shape:\", df.shape)\n",
    "print(\"Kolom:\", df.columns.tolist())\n",
    "print(\"\\nDistribusi Status Sehat:\")\n",
    "print(df['Status Sehat'].value_counts())\n",
    "print(\"\\nSample data:\")\n",
    "print(df.head())\n",
    "\n",
    "# Dataset baru untuk diprediksi\n",
    "n_gula = 20  # gram gula\n",
    "n_kalori = 150  # kalori\n",
    "\n",
    "# Visualiasi dataset (Grafik akan muncul di browser)\n",
    "fig = px.scatter(df, x='Gula (g)', y='Kalori', color='Status Sehat', \n",
    "                 hover_data=['Nama Minuman', 'Jenis'],\n",
    "                 width=800, height=400, title='Visualisasi Dataset Minuman')\n",
    "fig.add_trace(go.Scatter(x=[n_gula], y=[n_kalori], name=\"Point to Classify\",\n",
    "                        marker=dict(size=15, color='red', symbol='star')))\n",
    "fig.show()\n",
    "\n",
    "# Mencari Nearest Neighbours sejumlah k = 3\n",
    "x = df[['Gula (g)', 'Kalori']].to_numpy()\n",
    "y = df['Status Sehat'].tolist()\n",
    "k = 3\n",
    "input = (n_gula, n_kalori)\n",
    "\n",
    "predicted_label, nearest_neighbours, far_neighbours = find_nearest(x, y, input, k)\n",
    "nearest_neighbours = [[neighbour[1], x[neighbour[1], 0], x[neighbour[1], 1], neighbour[0], y[neighbour[1]]] for\n",
    "                      neighbour in nearest_neighbours]\n",
    "nearest_neighbours = pd.DataFrame(nearest_neighbours, columns=['id', 'Gula (g)', 'Kalori', 'Jarak', 'Status Sehat'])\n",
    "\n",
    "# Jarak data baru dengan jumlah k = 3\n",
    "print(f\"\\n=== HASIL KNN dengan K={k} ===\")\n",
    "print(\"Nearest Neighbours:\")\n",
    "print(nearest_neighbours)\n",
    "print(\"\")\n",
    "print(f'Prediksi Status Sehat untuk minuman baru dengan:')\n",
    "print(f'- Gula: {n_gula} gram')\n",
    "print(f'- Kalori: {n_kalori}')\n",
    "print(f'Hasil prediksi: {predicted_label}')\n",
    "\n",
    "# Visualisasi Prediksi\n",
    "\n",
    "# Mencari Far Neighbours\n",
    "far_neighbours = [[neighbour[1], x[neighbour[1], 0], x[neighbour[1], 1], neighbour[0], y[neighbour[1]]]\n",
    "                  for neighbour in far_neighbours]\n",
    "far_neighbours = pd.DataFrame(far_neighbours, columns=['id', 'Gula (g)', 'Kalori', 'Jarak', 'Status Sehat'])\n",
    "\n",
    "# Visualisasi baru fig2 dengan data far neighbours\n",
    "fig2 = px.scatter(far_neighbours, x='Gula (g)', y='Kalori', color='Status Sehat',\n",
    "                  width=800, height=400, title='Visualisasi KNN Prediction')\n",
    "\n",
    "# Menambahkan titik dari data baru dan nearest neighbours ke fig2\n",
    "for index, neighbour in nearest_neighbours.iterrows():\n",
    "    fig2.add_trace(\n",
    "        go.Scatter(x=[input[0], neighbour['Gula (g)']],\n",
    "                   y=[input[1], neighbour['Kalori']],\n",
    "                   mode='lines+markers',\n",
    "                   name=f'Neighbour {int(neighbour[\"id\"])} - {neighbour[\"Status Sehat\"]}',\n",
    "                   line=dict(dash='dash'))\n",
    "    )\n",
    "\n",
    "# Tambahkan point yang akan diklasifikasi\n",
    "fig2.add_trace(go.Scatter(x=[input[0]], y=[input[1]], \n",
    "                         name=f\"New Point - Predicted: {predicted_label}\",\n",
    "                         marker=dict(size=15, color='red', symbol='star')))\n",
    "\n",
    "fig2.show()\n",
    "\n",
    "# Analisis tambahan\n",
    "print(f\"\\n=== ANALISIS TAMBAHAN ===\")\n",
    "print(f\"Rata-rata gula minuman sehat: {df[df['Status Sehat'] == 'Sehat']['Gula (g)'].mean():.2f} gram\")\n",
    "print(f\"Rata-rata kalori minuman sehat: {df[df['Status Sehat'] == 'Sehat']['Kalori'].mean():.2f}\")\n",
    "print(f\"Rata-rata gula minuman tidak sehat: {df[df['Status Sehat'] == 'Tidak Sehat']['Gula (g)'].mean():.2f} gram\")\n",
    "print(f\"Rata-rata kalori minuman tidak sehat: {df[df['Status Sehat'] == 'Tidak Sehat']['Kalori'].mean():.2f}\")"
   ]
  }
 ],
 "metadata": {
  "kernelspec": {
   "display_name": "Python 3",
   "language": "python",
   "name": "python3"
  },
  "language_info": {
   "codemirror_mode": {
    "name": "ipython",
    "version": 3
   },
   "file_extension": ".py",
   "mimetype": "text/x-python",
   "name": "python",
   "nbconvert_exporter": "python",
   "pygments_lexer": "ipython3",
   "version": "3.10.6"
  }
 },
 "nbformat": 4,
 "nbformat_minor": 5
}
