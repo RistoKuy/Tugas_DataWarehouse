{
  "nbformat": 4,
  "nbformat_minor": 0,
  "metadata": {
    "colab": {
      "provenance": [],
      "collapsed_sections": [
        "8u6K98GJZz0-",
        "QhJdYZ1AcSo8"
      ]
    },
    "kernelspec": {
      "name": "python3",
      "display_name": "Python 3"
    },
    "language_info": {
      "name": "python"
    },
    "widgets": {
      "application/vnd.jupyter.widget-state+json": {
        "782cd1622e3e41be837b2788f60b8fd5": {
          "model_module": "@jupyter-widgets/controls",
          "model_name": "VBoxModel",
          "model_module_version": "1.5.0",
          "state": {
            "_dom_classes": [
              "widget-interact"
            ],
            "_model_module": "@jupyter-widgets/controls",
            "_model_module_version": "1.5.0",
            "_model_name": "VBoxModel",
            "_view_count": null,
            "_view_module": "@jupyter-widgets/controls",
            "_view_module_version": "1.5.0",
            "_view_name": "VBoxView",
            "box_style": "",
            "children": [
              "IPY_MODEL_a6b487cb4c7c469b93c05722ad65a5da",
              "IPY_MODEL_e89c5f72c76f4cb99b6dba00536a3cdb",
              "IPY_MODEL_3d09855dad1344a1a321de67b8fb5f32",
              "IPY_MODEL_8211da1806ef442a8d464ba8507b600d",
              "IPY_MODEL_682da4528bba487daea30d31712c1679"
            ],
            "layout": "IPY_MODEL_cb9122bb880447839790f20c74bc2843"
          }
        },
        "a6b487cb4c7c469b93c05722ad65a5da": {
          "model_module": "@jupyter-widgets/controls",
          "model_name": "IntSliderModel",
          "model_module_version": "1.5.0",
          "state": {
            "_dom_classes": [],
            "_model_module": "@jupyter-widgets/controls",
            "_model_module_version": "1.5.0",
            "_model_name": "IntSliderModel",
            "_view_count": null,
            "_view_module": "@jupyter-widgets/controls",
            "_view_module_version": "1.5.0",
            "_view_name": "IntSliderView",
            "continuous_update": true,
            "description": "Kamar",
            "description_tooltip": null,
            "disabled": false,
            "layout": "IPY_MODEL_88ca5be0386d4c33af3524a783b6ab5f",
            "max": 5,
            "min": 1,
            "orientation": "horizontal",
            "readout": true,
            "readout_format": "d",
            "step": 1,
            "style": "IPY_MODEL_afaf659f8bbb4273884dd60e8ad13e17",
            "value": 2
          }
        },
        "e89c5f72c76f4cb99b6dba00536a3cdb": {
          "model_module": "@jupyter-widgets/controls",
          "model_name": "IntSliderModel",
          "model_module_version": "1.5.0",
          "state": {
            "_dom_classes": [],
            "_model_module": "@jupyter-widgets/controls",
            "_model_module_version": "1.5.0",
            "_model_name": "IntSliderModel",
            "_view_count": null,
            "_view_module": "@jupyter-widgets/controls",
            "_view_module_version": "1.5.0",
            "_view_name": "IntSliderView",
            "continuous_update": true,
            "description": "Luas",
            "description_tooltip": null,
            "disabled": false,
            "layout": "IPY_MODEL_04440c1879704ae9b75fc6a206bbebfd",
            "max": 300,
            "min": 50,
            "orientation": "horizontal",
            "readout": true,
            "readout_format": "d",
            "step": 10,
            "style": "IPY_MODEL_891df6310a3e4b17afe1208d37f8f718",
            "value": 100
          }
        },
        "3d09855dad1344a1a321de67b8fb5f32": {
          "model_module": "@jupyter-widgets/controls",
          "model_name": "TextModel",
          "model_module_version": "1.5.0",
          "state": {
            "_dom_classes": [],
            "_model_module": "@jupyter-widgets/controls",
            "_model_module_version": "1.5.0",
            "_model_name": "TextModel",
            "_view_count": null,
            "_view_module": "@jupyter-widgets/controls",
            "_view_module_version": "1.5.0",
            "_view_name": "TextView",
            "continuous_update": true,
            "description": "Tempat",
            "description_tooltip": null,
            "disabled": false,
            "layout": "IPY_MODEL_2dba73b4d065419487db1b5c608cd5c5",
            "placeholder": "​",
            "style": "IPY_MODEL_08dc4c5421d5441cbb3d34f3013f4d1a",
            "value": "Bintaro"
          }
        },
        "8211da1806ef442a8d464ba8507b600d": {
          "model_module": "@jupyter-widgets/controls",
          "model_name": "ButtonModel",
          "model_module_version": "1.5.0",
          "state": {
            "_dom_classes": [],
            "_model_module": "@jupyter-widgets/controls",
            "_model_module_version": "1.5.0",
            "_model_name": "ButtonModel",
            "_view_count": null,
            "_view_module": "@jupyter-widgets/controls",
            "_view_module_version": "1.5.0",
            "_view_name": "ButtonView",
            "button_style": "",
            "description": "Predict Price",
            "disabled": false,
            "icon": "",
            "layout": "IPY_MODEL_70ccc769896c4911a99f41ebb75eb186",
            "style": "IPY_MODEL_2290db0e36844395b5952d809519d0c6",
            "tooltip": ""
          }
        },
        "682da4528bba487daea30d31712c1679": {
          "model_module": "@jupyter-widgets/output",
          "model_name": "OutputModel",
          "model_module_version": "1.0.0",
          "state": {
            "_dom_classes": [],
            "_model_module": "@jupyter-widgets/output",
            "_model_module_version": "1.0.0",
            "_model_name": "OutputModel",
            "_view_count": null,
            "_view_module": "@jupyter-widgets/output",
            "_view_module_version": "1.0.0",
            "_view_name": "OutputView",
            "layout": "IPY_MODEL_7d0d50ba3d1c44269fab23bea16c92a2",
            "msg_id": "",
            "outputs": [
              {
                "output_type": "stream",
                "name": "stdout",
                "text": [
                  "Prediksi Harga: 300.0\n"
                ]
              }
            ]
          }
        },
        "cb9122bb880447839790f20c74bc2843": {
          "model_module": "@jupyter-widgets/base",
          "model_name": "LayoutModel",
          "model_module_version": "1.2.0",
          "state": {
            "_model_module": "@jupyter-widgets/base",
            "_model_module_version": "1.2.0",
            "_model_name": "LayoutModel",
            "_view_count": null,
            "_view_module": "@jupyter-widgets/base",
            "_view_module_version": "1.2.0",
            "_view_name": "LayoutView",
            "align_content": null,
            "align_items": null,
            "align_self": null,
            "border": null,
            "bottom": null,
            "display": null,
            "flex": null,
            "flex_flow": null,
            "grid_area": null,
            "grid_auto_columns": null,
            "grid_auto_flow": null,
            "grid_auto_rows": null,
            "grid_column": null,
            "grid_gap": null,
            "grid_row": null,
            "grid_template_areas": null,
            "grid_template_columns": null,
            "grid_template_rows": null,
            "height": null,
            "justify_content": null,
            "justify_items": null,
            "left": null,
            "margin": null,
            "max_height": null,
            "max_width": null,
            "min_height": null,
            "min_width": null,
            "object_fit": null,
            "object_position": null,
            "order": null,
            "overflow": null,
            "overflow_x": null,
            "overflow_y": null,
            "padding": null,
            "right": null,
            "top": null,
            "visibility": null,
            "width": null
          }
        },
        "88ca5be0386d4c33af3524a783b6ab5f": {
          "model_module": "@jupyter-widgets/base",
          "model_name": "LayoutModel",
          "model_module_version": "1.2.0",
          "state": {
            "_model_module": "@jupyter-widgets/base",
            "_model_module_version": "1.2.0",
            "_model_name": "LayoutModel",
            "_view_count": null,
            "_view_module": "@jupyter-widgets/base",
            "_view_module_version": "1.2.0",
            "_view_name": "LayoutView",
            "align_content": null,
            "align_items": null,
            "align_self": null,
            "border": null,
            "bottom": null,
            "display": null,
            "flex": null,
            "flex_flow": null,
            "grid_area": null,
            "grid_auto_columns": null,
            "grid_auto_flow": null,
            "grid_auto_rows": null,
            "grid_column": null,
            "grid_gap": null,
            "grid_row": null,
            "grid_template_areas": null,
            "grid_template_columns": null,
            "grid_template_rows": null,
            "height": null,
            "justify_content": null,
            "justify_items": null,
            "left": null,
            "margin": null,
            "max_height": null,
            "max_width": null,
            "min_height": null,
            "min_width": null,
            "object_fit": null,
            "object_position": null,
            "order": null,
            "overflow": null,
            "overflow_x": null,
            "overflow_y": null,
            "padding": null,
            "right": null,
            "top": null,
            "visibility": null,
            "width": null
          }
        },
        "afaf659f8bbb4273884dd60e8ad13e17": {
          "model_module": "@jupyter-widgets/controls",
          "model_name": "SliderStyleModel",
          "model_module_version": "1.5.0",
          "state": {
            "_model_module": "@jupyter-widgets/controls",
            "_model_module_version": "1.5.0",
            "_model_name": "SliderStyleModel",
            "_view_count": null,
            "_view_module": "@jupyter-widgets/base",
            "_view_module_version": "1.2.0",
            "_view_name": "StyleView",
            "description_width": "",
            "handle_color": null
          }
        },
        "04440c1879704ae9b75fc6a206bbebfd": {
          "model_module": "@jupyter-widgets/base",
          "model_name": "LayoutModel",
          "model_module_version": "1.2.0",
          "state": {
            "_model_module": "@jupyter-widgets/base",
            "_model_module_version": "1.2.0",
            "_model_name": "LayoutModel",
            "_view_count": null,
            "_view_module": "@jupyter-widgets/base",
            "_view_module_version": "1.2.0",
            "_view_name": "LayoutView",
            "align_content": null,
            "align_items": null,
            "align_self": null,
            "border": null,
            "bottom": null,
            "display": null,
            "flex": null,
            "flex_flow": null,
            "grid_area": null,
            "grid_auto_columns": null,
            "grid_auto_flow": null,
            "grid_auto_rows": null,
            "grid_column": null,
            "grid_gap": null,
            "grid_row": null,
            "grid_template_areas": null,
            "grid_template_columns": null,
            "grid_template_rows": null,
            "height": null,
            "justify_content": null,
            "justify_items": null,
            "left": null,
            "margin": null,
            "max_height": null,
            "max_width": null,
            "min_height": null,
            "min_width": null,
            "object_fit": null,
            "object_position": null,
            "order": null,
            "overflow": null,
            "overflow_x": null,
            "overflow_y": null,
            "padding": null,
            "right": null,
            "top": null,
            "visibility": null,
            "width": null
          }
        },
        "891df6310a3e4b17afe1208d37f8f718": {
          "model_module": "@jupyter-widgets/controls",
          "model_name": "SliderStyleModel",
          "model_module_version": "1.5.0",
          "state": {
            "_model_module": "@jupyter-widgets/controls",
            "_model_module_version": "1.5.0",
            "_model_name": "SliderStyleModel",
            "_view_count": null,
            "_view_module": "@jupyter-widgets/base",
            "_view_module_version": "1.2.0",
            "_view_name": "StyleView",
            "description_width": "",
            "handle_color": null
          }
        },
        "2dba73b4d065419487db1b5c608cd5c5": {
          "model_module": "@jupyter-widgets/base",
          "model_name": "LayoutModel",
          "model_module_version": "1.2.0",
          "state": {
            "_model_module": "@jupyter-widgets/base",
            "_model_module_version": "1.2.0",
            "_model_name": "LayoutModel",
            "_view_count": null,
            "_view_module": "@jupyter-widgets/base",
            "_view_module_version": "1.2.0",
            "_view_name": "LayoutView",
            "align_content": null,
            "align_items": null,
            "align_self": null,
            "border": null,
            "bottom": null,
            "display": null,
            "flex": null,
            "flex_flow": null,
            "grid_area": null,
            "grid_auto_columns": null,
            "grid_auto_flow": null,
            "grid_auto_rows": null,
            "grid_column": null,
            "grid_gap": null,
            "grid_row": null,
            "grid_template_areas": null,
            "grid_template_columns": null,
            "grid_template_rows": null,
            "height": null,
            "justify_content": null,
            "justify_items": null,
            "left": null,
            "margin": null,
            "max_height": null,
            "max_width": null,
            "min_height": null,
            "min_width": null,
            "object_fit": null,
            "object_position": null,
            "order": null,
            "overflow": null,
            "overflow_x": null,
            "overflow_y": null,
            "padding": null,
            "right": null,
            "top": null,
            "visibility": null,
            "width": null
          }
        },
        "08dc4c5421d5441cbb3d34f3013f4d1a": {
          "model_module": "@jupyter-widgets/controls",
          "model_name": "DescriptionStyleModel",
          "model_module_version": "1.5.0",
          "state": {
            "_model_module": "@jupyter-widgets/controls",
            "_model_module_version": "1.5.0",
            "_model_name": "DescriptionStyleModel",
            "_view_count": null,
            "_view_module": "@jupyter-widgets/base",
            "_view_module_version": "1.2.0",
            "_view_name": "StyleView",
            "description_width": ""
          }
        },
        "70ccc769896c4911a99f41ebb75eb186": {
          "model_module": "@jupyter-widgets/base",
          "model_name": "LayoutModel",
          "model_module_version": "1.2.0",
          "state": {
            "_model_module": "@jupyter-widgets/base",
            "_model_module_version": "1.2.0",
            "_model_name": "LayoutModel",
            "_view_count": null,
            "_view_module": "@jupyter-widgets/base",
            "_view_module_version": "1.2.0",
            "_view_name": "LayoutView",
            "align_content": null,
            "align_items": null,
            "align_self": null,
            "border": null,
            "bottom": null,
            "display": null,
            "flex": null,
            "flex_flow": null,
            "grid_area": null,
            "grid_auto_columns": null,
            "grid_auto_flow": null,
            "grid_auto_rows": null,
            "grid_column": null,
            "grid_gap": null,
            "grid_row": null,
            "grid_template_areas": null,
            "grid_template_columns": null,
            "grid_template_rows": null,
            "height": null,
            "justify_content": null,
            "justify_items": null,
            "left": null,
            "margin": null,
            "max_height": null,
            "max_width": null,
            "min_height": null,
            "min_width": null,
            "object_fit": null,
            "object_position": null,
            "order": null,
            "overflow": null,
            "overflow_x": null,
            "overflow_y": null,
            "padding": null,
            "right": null,
            "top": null,
            "visibility": null,
            "width": null
          }
        },
        "2290db0e36844395b5952d809519d0c6": {
          "model_module": "@jupyter-widgets/controls",
          "model_name": "ButtonStyleModel",
          "model_module_version": "1.5.0",
          "state": {
            "_model_module": "@jupyter-widgets/controls",
            "_model_module_version": "1.5.0",
            "_model_name": "ButtonStyleModel",
            "_view_count": null,
            "_view_module": "@jupyter-widgets/base",
            "_view_module_version": "1.2.0",
            "_view_name": "StyleView",
            "button_color": null,
            "font_weight": ""
          }
        },
        "7d0d50ba3d1c44269fab23bea16c92a2": {
          "model_module": "@jupyter-widgets/base",
          "model_name": "LayoutModel",
          "model_module_version": "1.2.0",
          "state": {
            "_model_module": "@jupyter-widgets/base",
            "_model_module_version": "1.2.0",
            "_model_name": "LayoutModel",
            "_view_count": null,
            "_view_module": "@jupyter-widgets/base",
            "_view_module_version": "1.2.0",
            "_view_name": "LayoutView",
            "align_content": null,
            "align_items": null,
            "align_self": null,
            "border": null,
            "bottom": null,
            "display": null,
            "flex": null,
            "flex_flow": null,
            "grid_area": null,
            "grid_auto_columns": null,
            "grid_auto_flow": null,
            "grid_auto_rows": null,
            "grid_column": null,
            "grid_gap": null,
            "grid_row": null,
            "grid_template_areas": null,
            "grid_template_columns": null,
            "grid_template_rows": null,
            "height": null,
            "justify_content": null,
            "justify_items": null,
            "left": null,
            "margin": null,
            "max_height": null,
            "max_width": null,
            "min_height": null,
            "min_width": null,
            "object_fit": null,
            "object_position": null,
            "order": null,
            "overflow": null,
            "overflow_x": null,
            "overflow_y": null,
            "padding": null,
            "right": null,
            "top": null,
            "visibility": null,
            "width": null
          }
        }
      }
    }
  },
  "cells": [
    {
      "cell_type": "markdown",
      "source": [
        "# Linear Regression"
      ],
      "metadata": {
        "id": "8u6K98GJZz0-"
      }
    },
    {
      "cell_type": "code",
      "source": [
        "import numpy as np\n",
        "import matplotlib.pyplot as plt\n",
        "from sklearn.linear_model import LinearRegression\n",
        "\n",
        "# Data\n",
        "jam_belajar = np.array([2, 3, 4, 5, 6]).reshape(-1, 1)\n",
        "nilai_ujian = np.array([60, 70, 75, 85, 90])\n",
        "\n",
        "# Membuat model regresi linear\n",
        "model = LinearRegression()\n",
        "model.fit(jam_belajar, nilai_ujian)\n",
        "\n",
        "# Mendapatkan parameter model\n",
        "intercept = model.intercept_\n",
        "slope = model.coef_[0]\n",
        "\n",
        "# Membuat prediksi\n",
        "prediksi_nilai = model.predict(jam_belajar)\n",
        "\n",
        "\n",
        "# Plot hasil regresi\n",
        "plt.scatter(jam_belajar, nilai_ujian, color='blue', label='Data Asli')\n",
        "plt.plot(jam_belajar, prediksi_nilai, color='red', label='Regresi Linear')\n",
        "plt.axhline(intercept, color='green', linestyle='--', label=f'Intercept (beta_0 = {intercept:.2f})')\n",
        "plt.plot([0, 2], [intercept, intercept], color='green', linestyle='--')  # Garis merah dari intercept ke sumbu X\n",
        "plt.xlabel('Jam Belajar (X)')\n",
        "plt.ylabel('Nilai Ujian (Y)')\n",
        "plt.title('Regresi Linear: Hubungan Jam Belajar dan Nilai Ujian')\n",
        "plt.legend()\n",
        "\n",
        "# Anotasi untuk letak beta_0\n",
        "plt.annotate(f'  Intercept (beta_0 = {intercept:.2f})',\n",
        "             xy=(0, intercept), xycoords='data',\n",
        "             xytext=(0, 40), textcoords='offset points',\n",
        "             arrowprops=dict(facecolor='black', arrowstyle='wedge,tail_width=0.7', lw=1),\n",
        "             fontsize=10, color='green')\n",
        "\n",
        "plt.grid(True)  # Menambahkan grid untuk referensi\n",
        "plt.show()"
      ],
      "metadata": {
        "colab": {
          "base_uri": "https://localhost:8080/",
          "height": 472
        },
        "id": "Mtt9ADxtbh63",
        "outputId": "0ba53820-a75c-4f9d-e400-aa35f5eb131f"
      },
      "execution_count": null,
      "outputs": [
        {
          "output_type": "display_data",
          "data": {
            "text/plain": [
              "<Figure size 640x480 with 1 Axes>"
            ],
            "image/png": "[encoded data removed]"
          },
          "metadata": {}
        }
      ]
    },
    {
      "cell_type": "code",
      "source": [
        "import numpy as np\n",
        "import matplotlib.pyplot as plt\n",
        "from sklearn.linear_model import LinearRegression\n",
        "\n",
        "# Data\n",
        "jam_belajar = np.array([2, 3, 4, 5, 6]).reshape(-1, 1)\n",
        "nilai_ujian = np.array([60, 70, 75, 85, 90])\n",
        "\n",
        "# Membuat model regresi linear\n",
        "model = LinearRegression()\n",
        "model.fit(jam_belajar, nilai_ujian)\n",
        "\n",
        "# Mendapatkan parameter model\n",
        "intercept = model.intercept_\n",
        "slope = model.coef_[0]\n",
        "\n",
        "# Membuat prediksi\n",
        "prediksi_nilai = model.predict(jam_belajar)\n",
        "\n",
        "# Plot hasil regresi\n",
        "plt.scatter(jam_belajar, nilai_ujian, color='blue', label='Data Asli')\n",
        "plt.plot(jam_belajar, prediksi_nilai, color='red', label='Regresi Linear')\n",
        "plt.axhline(intercept, color='green', linestyle='--', label=f'Intercept (beta_0 = {intercept:.2f})')\n",
        "plt.plot([0, 2], [intercept, intercept], color='green', linestyle='--')  # Garis merah dari intercept ke sumbu X\n",
        "\n",
        "# Garis biru untuk menunjukkan koefisien regresi (beta_1)\n",
        "plt.plot([2, 6], [intercept, intercept + slope * 4], color='blue', linestyle='-', linewidth=2, label=f'Slope (beta_1 = {slope:.2f})')\n",
        "\n",
        "plt.xlabel('Jam Belajar (X)')\n",
        "plt.ylabel('Nilai Ujian (Y)')\n",
        "plt.title('Regresi Linear: Hubungan Jam Belajar dan Nilai Ujian')\n",
        "plt.legend()\n",
        "\n",
        "# Anotasi untuk letak beta_0 dan beta_1\n",
        "plt.annotate(f'  Intercept (beta_0 = {intercept:.2f})',\n",
        "             xy=(0, intercept), xycoords='data',\n",
        "             xytext=(0, 40), textcoords='offset points',\n",
        "             arrowprops=dict(facecolor='black', arrowstyle='wedge,tail_width=0.7', lw=1),\n",
        "             fontsize=10, color='green')\n",
        "\n",
        "plt.annotate(f'  Slope (beta_1 = {slope:.2f})',\n",
        "             xy=(3, intercept + slope * 3), xycoords='data',\n",
        "             xytext=(30, 0), textcoords='offset points',\n",
        "             arrowprops=dict(facecolor='black', arrowstyle='wedge,tail_width=0.7', lw=1),\n",
        "             fontsize=10, color='blue')\n",
        "\n",
        "plt.grid(True)  # Menambahkan grid untuk referensi\n",
        "plt.show()"
      ],
      "metadata": {
        "colab": {
          "base_uri": "https://localhost:8080/",
          "height": 472
        },
        "id": "Hxy4WemfZ3yt",
        "outputId": "a98f237c-6ab9-498f-8229-2570aad6ea58"
      },
      "execution_count": null,
      "outputs": [
        {
          "output_type": "display_data",
          "data": {
            "text/plain": [
              "<Figure size 640x480 with 1 Axes>"
            ],
            "image/png": "[encoded data removed]"
          },
          "metadata": {}
        }
      ]
    },
    {
      "cell_type": "markdown",
      "source": [
        "### **Menghitung Nilai Slope**"
      ],
      "metadata": {
        "id": "Jug_v9CaZ9eC"
      }
    },
    {
      "cell_type": "code",
      "source": [
        "import numpy as np\n",
        "\n",
        "# Data\n",
        "jam_belajar = np.array([2, 3, 4, 5, 6])\n",
        "nilai_ujian = np.array([60, 70, 75, 85, 90])\n",
        "\n",
        "# Hitung nilai slope secara manual\n",
        "n = len(jam_belajar)\n",
        "sum_x = np.sum(jam_belajar)\n",
        "sum_y = np.sum(nilai_ujian)\n",
        "sum_xy = np.sum(jam_belajar * nilai_ujian)\n",
        "sum_x_squared = np.sum(jam_belajar**2)\n",
        "\n",
        "# Hitung slope\n",
        "slope_manual = (n * sum_xy - sum_x * sum_y) / (n * sum_x_squared - sum_x**2)\n",
        "\n",
        "print(f'Nilai slope (beta_1) secara manual: {slope_manual:.2f}')"
      ],
      "metadata": {
        "colab": {
          "base_uri": "https://localhost:8080/"
        },
        "id": "GU83TXqxXkZn",
        "outputId": "7a009525-ee6a-4234-a1f1-84703f02e674"
      },
      "execution_count": null,
      "outputs": [
        {
          "output_type": "stream",
          "name": "stdout",
          "text": [
            "Nilai slope (beta_1) secara manual: 7.50\n"
          ]
        }
      ]
    },
    {
      "cell_type": "markdown",
      "source": [
        "# Introduce - Begin"
      ],
      "metadata": {
        "id": "QhJdYZ1AcSo8"
      }
    },
    {
      "cell_type": "code",
      "source": [
        "import pandas as pd\n",
        "from sklearn.tree import DecisionTreeRegressor\n",
        "from sklearn.preprocessing import LabelEncoder\n",
        "import ipywidgets as widgets\n",
        "from IPython.display import display\n",
        "import warnings\n",
        "\n",
        "# Membaca data dari file CSV\n",
        "df = pd.read_csv('reg_sample.csv')\n",
        "\n",
        "# Menggunakan LabelEncoder untuk mengubah data kategorikal (Tempat) menjadi numerik\n",
        "le_tempat = LabelEncoder()\n",
        "df['Tempat'] = le_tempat.fit_transform(df['Tempat'])\n",
        "\n",
        "# Memisahkan fitur dan target\n",
        "X = df.drop('Harga', axis=1)\n",
        "y = df['Harga']\n",
        "\n",
        "# Membangun model Decision Tree Regressor\n",
        "model = DecisionTreeRegressor(random_state=42)\n",
        "model.fit(X, y)\n",
        "\n",
        "# Fungsi untuk memprediksi harga berdasarkan input pengguna\n",
        "def predict_price(Kamar, Luas, Tempat):\n",
        "    try:\n",
        "        # Transform Tempat using LabelEncoder\n",
        "        encoded_tempat = le_tempat.transform([Tempat])[0]\n",
        "\n",
        "        # Check if the encoded_tempat is in the training data\n",
        "        if not any(X['Tempat'] == encoded_tempat):\n",
        "            raise ValueError(f\"Tempat '{Tempat}' is not in the training data.\")\n",
        "\n",
        "        # Predict the price\n",
        "        predicted_price = model.predict([[Kamar, Luas, encoded_tempat]])[0]\n",
        "        return f\"Prediksi Harga: {predicted_price}\"\n",
        "    except ValueError as e:\n",
        "        return f\"Error: {str(e)}\"\n",
        "\n",
        "# Buat widget untuk input\n",
        "kamar_widget = widgets.IntSlider(min=1, max=5, step=1, value=2, description='Kamar')\n",
        "luas_widget = widgets.IntSlider(min=50, max=300, step=10, value=250, description='Luas')\n",
        "tempat_widget = widgets.Text(value='Jatinegara', description='Tempat')\n",
        "\n",
        "# Membuat form interaktif\n",
        "interact_manual = widgets.interact_manual.options(manual_name=\"Predict Price\")\n",
        "\n",
        "# Suppress the specific warning about feature names\n",
        "warnings.filterwarnings(\"ignore\", category=UserWarning, module=\"sklearn\")\n",
        "\n",
        "@interact_manual(Kamar=kamar_widget, Luas=luas_widget, Tempat=tempat_widget)\n",
        "def get_prediction(Kamar, Luas, Tempat):\n",
        "    prediction = predict_price(Kamar, Luas, Tempat)\n",
        "    print(prediction)"
      ],
      "metadata": {
        "id": "XsfATjzjhS9g",
        "colab": {
          "base_uri": "https://localhost:8080/",
          "height": 162,
          "referenced_widgets": [
            "782cd1622e3e41be837b2788f60b8fd5",
            "a6b487cb4c7c469b93c05722ad65a5da",
            "e89c5f72c76f4cb99b6dba00536a3cdb",
            "3d09855dad1344a1a321de67b8fb5f32",
            "8211da1806ef442a8d464ba8507b600d",
            "682da4528bba487daea30d31712c1679",
            "cb9122bb880447839790f20c74bc2843",
            "88ca5be0386d4c33af3524a783b6ab5f",
            "afaf659f8bbb4273884dd60e8ad13e17",
            "04440c1879704ae9b75fc6a206bbebfd",
            "891df6310a3e4b17afe1208d37f8f718",
            "2dba73b4d065419487db1b5c608cd5c5",
            "08dc4c5421d5441cbb3d34f3013f4d1a",
            "70ccc769896c4911a99f41ebb75eb186",
            "2290db0e36844395b5952d809519d0c6",
            "7d0d50ba3d1c44269fab23bea16c92a2"
          ]
        },
        "outputId": "00259d9c-8228-4845-9242-7012a8c58df8"
      },
      "execution_count": 3,
      "outputs": [
        {
          "output_type": "display_data",
          "data": {
            "text/plain": [
              "interactive(children=(IntSlider(value=2, description='Kamar', max=5, min=1), IntSlider(value=250, description=…"
            ],
            "application/vnd.jupyter.widget-view+json": {
              "version_major": 2,
              "version_minor": 0,
              "model_id": "782cd1622e3e41be837b2788f60b8fd5"
            }
          },
          "metadata": {}
        }
      ]
    },
    {
      "cell_type": "code",
      "source": [],
      "metadata": {
        "id": "NQuDd48R3B01"
      },
      "execution_count": null,
      "outputs": []
    }
  ]
}